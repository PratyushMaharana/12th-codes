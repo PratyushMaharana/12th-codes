{
  "nbformat": 4,
  "nbformat_minor": 0,
  "metadata": {
    "colab": {
      "provenance": [],
      "authorship_tag": "ABX9TyPZ1+l8oKnXQiGtypGNXKTH",
      "include_colab_link": true
    },
    "kernelspec": {
      "name": "python3",
      "display_name": "Python 3"
    },
    "language_info": {
      "name": "python"
    }
  },
  "cells": [
    {
      "cell_type": "markdown",
      "metadata": {
        "id": "view-in-github",
        "colab_type": "text"
      },
      "source": [
        "<a href=\"https://colab.research.google.com/github/PratyushMaharana/12th-codes/blob/main/cs_12th_codes.ipynb\" target=\"_parent\"><img src=\"https://colab.research.google.com/assets/colab-badge.svg\" alt=\"Open In Colab\"/></a>"
      ]
    },
    {
      "cell_type": "code",
      "source": [
        "a=2\n",
        "b=3\n",
        "c=4\n",
        "def si(x,y,z):\n",
        "  simple=(x*y*z)/100\n",
        "  print(simple)\n",
        "si(a,b,c)\n",
        "a=5\n",
        "b=8\n",
        "c=9\n",
        "si(a,b,c)"
      ],
      "metadata": {
        "id": "wLdrtr-APYiw",
        "colab": {
          "base_uri": "https://localhost:8080/"
        },
        "outputId": "0bf0c916-b9d2-4dc3-b800-1f1f76b81bd3"
      },
      "execution_count": null,
      "outputs": [
        {
          "output_type": "stream",
          "name": "stdout",
          "text": [
            "0.24\n",
            "3.6\n"
          ]
        }
      ]
    },
    {
      "cell_type": "code",
      "source": [
        "def sum():\n",
        "  num=int(input(\"enter a number:\"))\n",
        "  total=0\n",
        "  while num:\n",
        "    total+=num%10\n",
        "    num//=10\n",
        "  print(total)\n",
        "sum()"
      ],
      "metadata": {
        "id": "Y78RA4bhyLuI",
        "colab": {
          "base_uri": "https://localhost:8080/"
        },
        "outputId": "2760949f-fca9-4cd3-91e2-2de931c5a255"
      },
      "execution_count": null,
      "outputs": [
        {
          "output_type": "stream",
          "name": "stdout",
          "text": [
            "enter a number:2345\n",
            "14\n"
          ]
        }
      ]
    },
    {
      "cell_type": "code",
      "source": [
        "def sum():\n",
        "  num=int(input(\"Enter a number :\"))\n",
        "  total=0\n",
        "  while num:\n",
        "    total+=num%10\n",
        "    num//=10\n",
        "  print(total)\n",
        "sum()"
      ],
      "metadata": {
        "colab": {
          "base_uri": "https://localhost:8080/"
        },
        "id": "sb4Cyfxjpzc3",
        "outputId": "e64f59cd-d8dc-451c-ea77-9282ee294919"
      },
      "execution_count": null,
      "outputs": [
        {
          "output_type": "stream",
          "name": "stdout",
          "text": [
            "Enter a number :3456666666666\n",
            "72\n"
          ]
        }
      ]
    },
    {
      "cell_type": "markdown",
      "source": [
        "###** with argument but no return value **"
      ],
      "metadata": {
        "id": "8NoWrVGKrZqD"
      }
    },
    {
      "cell_type": "code",
      "source": [
        "def sum_digits_type2(num):\n",
        "    total = 0\n",
        "    while num:\n",
        "        total += num % 10\n",
        "        num //= 10\n",
        "    print(\"Sum of digits:\", total)\n",
        "\n",
        "sum_digits_type2(88)\n"
      ],
      "metadata": {
        "colab": {
          "base_uri": "https://localhost:8080/"
        },
        "id": "7DoLsLZuqZ2g",
        "outputId": "788b1348-1bce-483b-c3f6-7a7dd68206ef"
      },
      "execution_count": null,
      "outputs": [
        {
          "output_type": "stream",
          "name": "stdout",
          "text": [
            "Sum of digits: 16\n"
          ]
        }
      ]
    },
    {
      "cell_type": "code",
      "source": [
        "def all(num):\n",
        "  total =0\n",
        "  while num:\n",
        "    total+=num%10\n",
        "    num//=10\n",
        "  print(total)\n",
        "all(23456)"
      ],
      "metadata": {
        "colab": {
          "base_uri": "https://localhost:8080/"
        },
        "id": "Yr7jIN0yqpET",
        "outputId": "c0251071-1d07-4a74-a778-af26ca97d5ca"
      },
      "execution_count": null,
      "outputs": [
        {
          "output_type": "stream",
          "name": "stdout",
          "text": [
            "20\n"
          ]
        }
      ]
    },
    {
      "cell_type": "markdown",
      "source": [
        "without argument but return value"
      ],
      "metadata": {
        "id": "yjuSvsYdr3lk"
      }
    },
    {
      "cell_type": "code",
      "source": [
        "def sum_digits_type3():\n",
        "    num = int(input(\"Enter a number: \"))\n",
        "    total = 0\n",
        "    while num:\n",
        "        total += num % 10\n",
        "        num //= 10\n",
        "    return total\n",
        "\n",
        "result = sum_digits_type3()\n",
        "print(\"Sum of digits:\", result)\n"
      ],
      "metadata": {
        "colab": {
          "base_uri": "https://localhost:8080/"
        },
        "id": "xWQ-pv_TrPOv",
        "outputId": "663a775f-e065-4f0b-cb02-41a9008c3e60"
      },
      "execution_count": null,
      "outputs": [
        {
          "output_type": "stream",
          "name": "stdout",
          "text": [
            "Enter a number: 23\n",
            "Sum of digits: 5\n"
          ]
        }
      ]
    },
    {
      "cell_type": "code",
      "source": [
        "def all():\n",
        "  num=int(input(\"enter a number:\"))\n",
        "  total =0\n",
        "  while num:\n",
        "    total+=num%10\n",
        "    num//=10\n",
        "  return total\n",
        "result =all()\n",
        "print(result)"
      ],
      "metadata": {
        "colab": {
          "base_uri": "https://localhost:8080/"
        },
        "id": "wRigDWz1r8xx",
        "outputId": "e34efae8-3df0-407e-d9ca-e4049e664265"
      },
      "execution_count": null,
      "outputs": [
        {
          "output_type": "stream",
          "name": "stdout",
          "text": [
            "enter a number:2345\n",
            "14\n"
          ]
        }
      ]
    },
    {
      "cell_type": "code",
      "source": [
        "p=45\n",
        "r=43\n",
        "t=23\n",
        "def simp():\n",
        "  z=(p*r*t)/100\n",
        "  return z\n",
        "simp()"
      ],
      "metadata": {
        "colab": {
          "base_uri": "https://localhost:8080/"
        },
        "id": "m8Ag1Yd3sSAC",
        "outputId": "c33a5b93-8ad0-4c4b-a81b-ebe6e7e13dd3"
      },
      "execution_count": null,
      "outputs": [
        {
          "output_type": "execute_result",
          "data": {
            "text/plain": [
              "445.05"
            ]
          },
          "metadata": {},
          "execution_count": 19
        }
      ]
    },
    {
      "cell_type": "code",
      "source": [
        "def factorial():\n",
        "  num=int(input(\"enter a number:\"))\n",
        "  fac=1\n",
        "  for i in range(1,num+1):\n",
        "    fac*=i\n",
        "  print(\"factorial\",fac)\n",
        "factorial()"
      ],
      "metadata": {
        "colab": {
          "base_uri": "https://localhost:8080/"
        },
        "id": "zkqM_lLMtvIS",
        "outputId": "6401b2e3-4d8c-4a30-e63e-a763615cfeff"
      },
      "execution_count": null,
      "outputs": [
        {
          "output_type": "stream",
          "name": "stdout",
          "text": [
            "enter a number:23\n",
            "factorial 25852016738884976640000\n"
          ]
        }
      ]
    },
    {
      "cell_type": "code",
      "source": [
        "def simp(P,R,T):\n",
        "  si=(P*R*T)/100\n",
        "  print(\"simple inetrest:\", si)\n",
        "simp((float(input(\" principal rate:\"))),(float(input(\"rate:\"))),(float(input(\"time:\"))))"
      ],
      "metadata": {
        "colab": {
          "base_uri": "https://localhost:8080/"
        },
        "id": "7rfjeCYsv2or",
        "outputId": "4ccbec05-2a24-498d-d1eb-034411eb6305"
      },
      "execution_count": null,
      "outputs": [
        {
          "output_type": "stream",
          "name": "stdout",
          "text": [
            " principal rate5\n",
            "rate4\n",
            "time3\n",
            "simple inetrest: 0.6\n"
          ]
        }
      ]
    },
    {
      "cell_type": "code",
      "source": [
        "def evenodd():\n",
        "  num=int(input(\"enter a number:\"))\n",
        "  if num%2==0:\n",
        "    print(\"even\")\n",
        "  else:\n",
        "    print(\"odd\")\n",
        "evenodd()\n",
        "evenodd()\n"
      ],
      "metadata": {
        "id": "Xu07NzxqAytr",
        "colab": {
          "base_uri": "https://localhost:8080/"
        },
        "outputId": "2c4089d1-5575-471f-9c77-41dd9d0b8e30"
      },
      "execution_count": null,
      "outputs": [
        {
          "output_type": "stream",
          "name": "stdout",
          "text": [
            "enter a number:3\n",
            "odd\n",
            "enter a number:34\n",
            "even\n"
          ]
        }
      ]
    },
    {
      "cell_type": "code",
      "source": [
        "def test(x):\n",
        "    return x + 5\n",
        "print(test(10))\n"
      ],
      "metadata": {
        "id": "YvQ_XfC3kDYE",
        "colab": {
          "base_uri": "https://localhost:8080/"
        },
        "outputId": "6d905474-86be-4dce-f62f-867333651497"
      },
      "execution_count": null,
      "outputs": [
        {
          "output_type": "stream",
          "name": "stdout",
          "text": [
            "15\n"
          ]
        }
      ]
    },
    {
      "cell_type": "code",
      "source": [
        "def name():\n",
        "  print(\"pratyush\")\n",
        "name()"
      ],
      "metadata": {
        "colab": {
          "base_uri": "https://localhost:8080/"
        },
        "id": "NyEBd3uRQBn-",
        "outputId": "aaa777fa-1b6c-4593-fb03-e143d9f59b71"
      },
      "execution_count": null,
      "outputs": [
        {
          "output_type": "stream",
          "name": "stdout",
          "text": [
            "pratyush\n"
          ]
        }
      ]
    },
    {
      "cell_type": "code",
      "source": [
        "def square(n):\n",
        "  print(\"square:\",n*n)\n",
        "square(5)"
      ],
      "metadata": {
        "colab": {
          "base_uri": "https://localhost:8080/"
        },
        "id": "uhGLC6EWQYPS",
        "outputId": "69de987e-f660-4889-a081-592620a3e7b9"
      },
      "execution_count": null,
      "outputs": [
        {
          "output_type": "stream",
          "name": "stdout",
          "text": [
            "square: 25\n"
          ]
        }
      ]
    },
    {
      "cell_type": "code",
      "source": [
        "def add(a, b): return a + b\n",
        "def sub(a, b): return a - b\n",
        "def mul(a, b): return a * b\n",
        "\n",
        "print(\"1. Add\\n2. Subtract\\n3. Multiply\")\n",
        "choice = int(input(\"Enter choice: \"))\n",
        "x = int(input(\"Enter first number: \"))\n",
        "y = int(input(\"Enter second number: \"))\n",
        "\n",
        "if choice == 1:\n",
        "    print(\"Result:\", add(x, y))\n",
        "elif choice == 2:\n",
        "    print(\"Result:\", sub(x, y))\n",
        "elif choice == 3:\n",
        "    print(\"Result:\", mul(x, y))\n",
        "else:\n",
        "    print(\"Invalid choice\")\n"
      ],
      "metadata": {
        "colab": {
          "base_uri": "https://localhost:8080/"
        },
        "id": "qXT3CUpoQ7y1",
        "outputId": "c3be042c-23db-4412-a341-a7da159c3ddc"
      },
      "execution_count": null,
      "outputs": [
        {
          "output_type": "stream",
          "name": "stdout",
          "text": [
            "1. Add\n",
            "2. Subtract\n",
            "3. Multiply\n",
            "Enter choice: 1\n",
            "Enter first number: 2\n",
            "Enter second number: 3\n",
            "Result: 5\n"
          ]
        }
      ]
    },
    {
      "cell_type": "code",
      "source": [
        "print(\"1.add\\n2.subtract\\n3.multiply\")\n",
        "\n",
        "choice = int(input(\"enter your choice:\"))\n",
        "\n",
        "x = int(input(\"enter a first number:\"))\n",
        "y = int(input(\"enter a second number:\"))\n",
        "\n",
        "def add(a,b):return a+b\n",
        "def sub(a,b):return a-b\n",
        "def mul(a,b):return a*b\n",
        "\n",
        "if choice == 1:\n",
        "  print(\"result\",add(x,y))\n",
        "\n",
        "elif choice == 2:\n",
        "  print(\"result\",sub(x,y))\n",
        "\n",
        "elif choice == 3:\n",
        "  print(\"result\",mul(x,y))\n",
        "\n",
        "else:\n",
        "  print(\"invalid choice\")\n"
      ],
      "metadata": {
        "colab": {
          "base_uri": "https://localhost:8080/"
        },
        "id": "v6mwFLlRVsDx",
        "outputId": "b104524f-1cbf-46a2-f394-9efcca0d76d6"
      },
      "execution_count": null,
      "outputs": [
        {
          "output_type": "stream",
          "name": "stdout",
          "text": [
            "1.add\n",
            "2.subtract\n",
            "3.multiply\n",
            "enter your choice:1\n",
            "enter a first number:2\n",
            "enter a second number:2\n",
            "result 4\n"
          ]
        }
      ]
    },
    {
      "cell_type": "code",
      "source": [
        "import random\n",
        "def arandom():\n",
        "  return random.randint(1,100)\n",
        "num = arandom()\n",
        "print(num)"
      ],
      "metadata": {
        "colab": {
          "base_uri": "https://localhost:8080/"
        },
        "id": "clL-Zv0zReY0",
        "outputId": "a8bc6cc7-7493-4c4d-f70e-6746fe454d44"
      },
      "execution_count": null,
      "outputs": [
        {
          "output_type": "stream",
          "name": "stdout",
          "text": [
            "91\n"
          ]
        }
      ]
    },
    {
      "cell_type": "code",
      "source": [
        "a=float(input(\"enter a number:\"))\n",
        "b=float(input(\"enter a number:\"))\n",
        "def av(x,y):\n",
        "  z=(a+b)/2\n",
        "  return z\n",
        "sum=av(a,b)\n",
        "print(sum)\n"
      ],
      "metadata": {
        "colab": {
          "base_uri": "https://localhost:8080/"
        },
        "id": "4dsAoqLWSbp-",
        "outputId": "ad30d97c-bd84-4cae-c840-24d08f0ae4f9"
      },
      "execution_count": null,
      "outputs": [
        {
          "output_type": "stream",
          "name": "stdout",
          "text": [
            "enter a number:4\n",
            "enter a number:5\n",
            "4.5\n"
          ]
        }
      ]
    },
    {
      "cell_type": "code",
      "source": [
        "def even(n):\n",
        "  if n%2==0:\n",
        "    print(\"even\")\n",
        "  else:\n",
        "    print(\"odd\")\n",
        "even(float(input(\"enter a number:\")))"
      ],
      "metadata": {
        "colab": {
          "base_uri": "https://localhost:8080/"
        },
        "id": "ls5UWiqAT-w9",
        "outputId": "19a685a9-9438-4a75-b4f0-dbd3ad17bde8"
      },
      "execution_count": null,
      "outputs": [
        {
          "output_type": "stream",
          "name": "stdout",
          "text": [
            "enter a number:5\n",
            "odd\n"
          ]
        }
      ]
    },
    {
      "cell_type": "code",
      "source": [
        "def count_vowels(text):\n",
        "    count = 0\n",
        "    vowels = \"aeiouAEIOU\"\n",
        "    for ch in text:\n",
        "        if ch in vowels:\n",
        "            count += 1\n",
        "    return count\n",
        "\n",
        "string = input('enter a string:')\n",
        "print(\"Number of vowels:\", count_vowels(string))\n",
        "\n",
        "def count(text):\n",
        "  count=0\n",
        "  vowels=\"aeiouAEIOU\"\n",
        "  for ch in text:\n",
        "    if ch in vowels:\n",
        "      count+=1\n",
        "  return count\n",
        "string= input(\"enter a string:\")\n",
        "print(\"number of vowels:\",count(string))\n"
      ],
      "metadata": {
        "colab": {
          "base_uri": "https://localhost:8080/"
        },
        "id": "3e9xEV6AUvMn",
        "outputId": "d4b721f8-73f8-4713-ac19-9615858083f7"
      },
      "execution_count": null,
      "outputs": [
        {
          "output_type": "stream",
          "name": "stdout",
          "text": [
            "enter a string:pratyush\n",
            "Number of vowels: 2\n",
            "enter a string:eeeeeeeeeeeeeeeeeeeeeeeeeee\n",
            "number of vowels: 27\n"
          ]
        }
      ]
    },
    {
      "cell_type": "code",
      "source": [
        "def count(text):\n",
        "  count=0\n",
        "  vowels=\"aeiouAEIOU\"\n",
        "  for ch in text:\n",
        "    if ch in vowels:\n",
        "      count+=1\n",
        "  return count\n",
        "string=input(\"enter a string:\")\n",
        "print(\"number of vowels:\",count(string))"
      ],
      "metadata": {
        "colab": {
          "base_uri": "https://localhost:8080/"
        },
        "id": "qbvtm9WhUvoS",
        "outputId": "06316060-3930-42cb-a5a1-d39336a3cdb1"
      },
      "execution_count": null,
      "outputs": [
        {
          "output_type": "stream",
          "name": "stdout",
          "text": [
            "enter a string:pratyush\n",
            "number of vowels: 2\n"
          ]
        }
      ]
    },
    {
      "cell_type": "code",
      "source": [
        "v=30\n",
        "for val in range(0,v):\n",
        "  if val%4==0:\n",
        "    print(val*4)\n",
        "  elif val%5==0:\n",
        "    print(val+3)\n",
        "  else:\n",
        "    print(val+10)"
      ],
      "metadata": {
        "colab": {
          "base_uri": "https://localhost:8080/"
        },
        "id": "rh6O6Dei-CRW",
        "outputId": "ee593f07-bcee-41be-ded9-54d825dd5cd5"
      },
      "execution_count": null,
      "outputs": [
        {
          "output_type": "stream",
          "name": "stdout",
          "text": [
            "0\n",
            "11\n",
            "12\n",
            "13\n",
            "16\n",
            "8\n",
            "16\n",
            "17\n",
            "32\n",
            "19\n",
            "13\n",
            "21\n",
            "48\n",
            "23\n",
            "24\n",
            "18\n",
            "64\n",
            "27\n",
            "28\n",
            "29\n",
            "80\n",
            "31\n",
            "32\n",
            "33\n",
            "96\n",
            "28\n",
            "36\n",
            "37\n",
            "112\n",
            "39\n"
          ]
        }
      ]
    },
    {
      "cell_type": "code",
      "source": [
        "def create_file():\n",
        "    with open(\"students.txt\", \"w\") as f:\n",
        "        n = int(input(\"Enter number of students: \"))\n",
        "        for _ in range(n):\n",
        "            roll = input(\"Roll Number: \")\n",
        "            name = input(\"Name: \")\n",
        "            marks = input(\"Marks: \")\n",
        "            f.write(f\"{roll},{name},{marks}\\n\")\n",
        "\n",
        "def search_by_roll(roll_no):\n",
        "    found = False\n",
        "    with open(\"students.txt\", \"r\") as f:\n",
        "        for line in f:\n",
        "            roll, name, marks = line.strip().split(\",\")\n",
        "            if roll == roll_no:\n",
        "                print(f\"Found: {name} scored {marks} marks.\")\n",
        "                found = True\n",
        "                break\n",
        "    if not found:\n",
        "        print(\"Student not found.\")\n",
        "\n",
        "# Menu-driven logic to avoid endless repetition\n",
        "while True:\n",
        "    print(\"\\n----- Student File Menu -----\")\n",
        "    print(\"1. Create student file\")\n",
        "    print(\"2. Search student by roll number\")\n",
        "    print(\"3. Exit\")\n",
        "    choice = input(\"Enter your choice (1/2/3): \")\n",
        "\n",
        "    if choice == '1':\n",
        "        create_file()\n",
        "    elif choice == '2':\n",
        "        roll_search = input(\"Enter roll number to search: \")\n",
        "        search_by_roll(roll_search)\n",
        "    elif choice == '3':\n",
        "        print(\"Exiting program.\")\n",
        "        break\n",
        "    else:\n",
        "        print(\"Invalid choice. Try again.\")"
      ],
      "metadata": {
        "id": "TzpMzVupQACT",
        "colab": {
          "base_uri": "https://localhost:8080/"
        },
        "outputId": "bdf2b397-3518-47a6-d7d3-3dd82aca6994"
      },
      "execution_count": null,
      "outputs": [
        {
          "output_type": "stream",
          "name": "stdout",
          "text": [
            "\n",
            "----- Student File Menu -----\n",
            "1. Create student file\n",
            "2. Search student by roll number\n",
            "3. Exit\n",
            "Enter your choice (1/2/3): 1\n",
            "Enter number of students: 2\n",
            "Roll Number: 25\n",
            "Name: 26\n",
            "Marks: 99\n",
            "Roll Number: 25\n",
            "Name: pratyush\n",
            "Marks: 8\n",
            "\n",
            "----- Student File Menu -----\n",
            "1. Create student file\n",
            "2. Search student by roll number\n",
            "3. Exit\n",
            "Enter your choice (1/2/3): 2\n",
            "Enter roll number to search: 25\n",
            "Found: 26 scored 99 marks.\n",
            "\n",
            "----- Student File Menu -----\n",
            "1. Create student file\n",
            "2. Search student by roll number\n",
            "3. Exit\n",
            "Enter your choice (1/2/3): 3\n",
            "Exiting program.\n"
          ]
        }
      ]
    },
    {
      "cell_type": "code",
      "source": [
        "def create_file():\n",
        "    with open(\"students.txt\", \"w\") as f:\n",
        "        n = int(input(\"Enter number of students: \"))\n",
        "        for _ in range(n):\n",
        "            roll = input(\"Roll Number: \")\n",
        "            name = input(\"Name: \")\n",
        "            marks = input(\"Marks: \")\n",
        "            f.write(f\"{roll},{name},{marks}\\n\")\n",
        "\n",
        "def search_by_roll(roll_no):\n",
        "    found = False\n",
        "    with open(\"students.txt\", \"r\") as f:\n",
        "        for line in f:\n",
        "            roll, name, marks = line.strip().split(\",\")\n",
        "            if roll == roll_no:\n",
        "                print(f\"Found: {name} scored {marks} marks.\")\n",
        "                found = True\n",
        "                break\n",
        "    if not found:\n",
        "        print(\"Student not found.\")\n",
        "\n",
        "create_file()\n",
        "roll_search = input(\"Enter roll number to search: \")\n",
        "search_by_roll(roll_search)\n"
      ],
      "metadata": {
        "colab": {
          "base_uri": "https://localhost:8080/"
        },
        "id": "YiKZO1BH2GQ9",
        "outputId": "2ca91ab0-39e1-41c2-d9d0-f50a0de4f704"
      },
      "execution_count": null,
      "outputs": [
        {
          "output_type": "stream",
          "name": "stdout",
          "text": [
            "Enter number of students: 1\n",
            "Roll Number: 5\n",
            "Name: opo\n",
            "Marks: 99\n",
            "Enter roll number to search: 1\n",
            "Student not found.\n"
          ]
        }
      ]
    },
    {
      "cell_type": "code",
      "source": [
        "x=\"hello world\"\n",
        "print(x[:2], x[:-2], x[-2:])\n",
        "print(x[6],x[2:4])\n",
        "print(x[2:3],x[-4:-2])"
      ],
      "metadata": {
        "colab": {
          "base_uri": "https://localhost:8080/"
        },
        "id": "qkCk_VJKY4g-",
        "outputId": "88bf4f36-abe8-4126-b51a-851e58d3300b"
      },
      "execution_count": null,
      "outputs": [
        {
          "output_type": "stream",
          "name": "stdout",
          "text": [
            "he hello wor ld\n",
            "w ll\n",
            "l or\n"
          ]
        }
      ]
    },
    {
      "cell_type": "code",
      "source": [
        "y=str(123)\n",
        "x=\"hello\"*3\n",
        "print(x,y)\n",
        "x=\"hello\"+\"world\"\n",
        "y=len(x)\n",
        "print(y,x)"
      ],
      "metadata": {
        "colab": {
          "base_uri": "https://localhost:8080/"
        },
        "id": "vYe2zqbkgam4",
        "outputId": "dc5e5660-e4c6-414f-eef0-bc552708d2cf"
      },
      "execution_count": null,
      "outputs": [
        {
          "output_type": "stream",
          "name": "stdout",
          "text": [
            "hellohellohello 123\n",
            "10 helloworld\n"
          ]
        }
      ]
    },
    {
      "cell_type": "code",
      "source": [
        "a={}\n",
        "a[(1,2,4)]=8\n",
        "a[(4,2,1)]=10\n",
        "a[(1,2)]=12\n",
        "sum=0\n",
        "for k in a:\n",
        "  sum+=a[k]\n",
        "print(sum)\n",
        "print(a)"
      ],
      "metadata": {
        "colab": {
          "base_uri": "https://localhost:8080/"
        },
        "id": "yhEgcAHYhlU5",
        "outputId": "04d671cb-3e3a-4c1c-d81a-d0d2af1f3810"
      },
      "execution_count": null,
      "outputs": [
        {
          "output_type": "stream",
          "name": "stdout",
          "text": [
            "30\n",
            "{(1, 2, 4): 8, (4, 2, 1): 10, (1, 2): 12}\n"
          ]
        }
      ]
    }
  ]
}