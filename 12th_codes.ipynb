{
  "cells": [
    {
      "cell_type": "markdown",
      "metadata": {
        "id": "view-in-github",
        "colab_type": "text"
      },
      "source": [
        "<a href=\"https://colab.research.google.com/github/PratyushMaharana/12th-codes/blob/main/12th_codes.ipynb\" target=\"_parent\"><img src=\"https://colab.research.google.com/assets/colab-badge.svg\" alt=\"Open In Colab\"/></a>"
      ]
    },
    {
      "cell_type": "code",
      "execution_count": null,
      "metadata": {
        "colab": {
          "base_uri": "https://localhost:8080/"
        },
        "id": "vNvLTLcdmuH0",
        "outputId": "e9a3c8d5-b837-417c-c43a-b9c105a93c13"
      },
      "outputs": [
        {
          "name": "stdout",
          "output_type": "stream",
          "text": [
            "sample.txt not found.\n"
          ]
        }
      ],
      "source": [
        "def count_vowels(filename):\n",
        "    vowels = 'aeiouAEIOU'\n",
        "    with open(filename) as f:\n",
        "        return sum(1 for char in f.read() if char in vowels)\n",
        "\n",
        "try:\n",
        "    print(\"Vowel count:\", count_vowels('sample.txt'))\n",
        "except FileNotFoundError:\n",
        "    print(\"sample.txt not found.\")\n"
      ]
    },
    {
      "cell_type": "markdown",
      "metadata": {
        "id": "cN1IUlEG53mv"
      },
      "source": [
        "# **filter line conatining 'p'**"
      ]
    },
    {
      "cell_type": "code",
      "execution_count": null,
      "metadata": {
        "colab": {
          "base_uri": "https://localhost:8080/"
        },
        "id": "BNrX2LJWo2Fx",
        "outputId": "d0e0e0eb-e78c-477c-96be-f8940e699dde"
      },
      "outputs": [
        {
          "name": "stdout",
          "output_type": "stream",
          "text": [
            "Lines with 'p' copied to output.txt\n"
          ]
        }
      ],
      "source": [
        "with open('input.txt', 'w') as f:\n",
        "    f.write(\"This is a text with some p's.\\n\")\n",
        "    f.write(\"Python is powerful.\\n\")\n",
        "    f.write(\"This line does not contain the letter p.\\n\")\n",
        "    f.write(\"Pineapple is a fruit.\\n\")\n",
        "\n",
        "with open('input.txt', 'r') as infile, open('output.txt', 'w') as outfile:\n",
        "    for line in infile:\n",
        "        if 'p' in line.lower():\n",
        "            outfile.write(line)\n",
        "\n",
        "print(\"Lines with 'p' copied to output.txt\")"
      ]
    },
    {
      "cell_type": "markdown",
      "metadata": {
        "id": "pj531LQb6UHc"
      },
      "source": [
        "# **Write a program to append one more record in the existing text file name as student.txt**"
      ]
    },
    {
      "cell_type": "code",
      "execution_count": null,
      "metadata": {
        "colab": {
          "background_save": true,
          "base_uri": "https://localhost:8080/"
        },
        "id": "3hdNQ_Z9ySVW",
        "outputId": "ef65de84-0859-47d7-dd88-4129b34d2124"
      },
      "outputs": [
        {
          "name": "stdout",
          "output_type": "stream",
          "text": [
            "Initialized file with default student records.\n",
            "\n",
            "Enter details to append to the file:\n"
          ]
        }
      ],
      "source": [
        "import os\n",
        "\n",
        "filename = \"student.txt\"\n",
        "\n",
        "if not os.path.exists(filename) or os.path.getsize(filename) == 0:\n",
        "    with open(filename, \"w\") as file:\n",
        "        file.write(\"Ravi Kumar, 101, 85\\n\")\n",
        "        file.write(\"Sneha Das, 102, 90\\n\")\n",
        "        print(\"Initialized file with default student records.\")\n",
        "\n",
        "while True:\n",
        "    with open(filename, \"a\") as file:\n",
        "        print(\"\\nEnter details to append to the file:\")\n",
        "        name = input(\"Enter student name: \").strip()\n",
        "        roll = input(\"Enter roll number: \").strip()\n",
        "        marks = input(\"Enter marks: \").strip()\n",
        "        file.write(f\"{name}, {roll}, {marks}\\n\")\n",
        "        print(\"Record added successfully.\")\n",
        "\n",
        "    more = input(\"Do you want to add another record? (yes/no): \").strip().lower()\n",
        "    if more != \"yes\":\n",
        "        break\n",
        "\n",
        "view = input(\"\\nDo you want to see the contents of student.txt? (yes/no): \").strip().lower()\n",
        "if view == \"yes\":\n",
        "    print(\"\\nContents of student.txt:\")\n",
        "    with open(filename, \"r\") as file:\n",
        "        print(file.read())\n"
      ]
    },
    {
      "cell_type": "code",
      "execution_count": null,
      "metadata": {
        "colab": {
          "base_uri": "https://localhost:8080/"
        },
        "id": "phOMX7alzZPg",
        "outputId": "521d34d5-f690-44c2-ded5-15a6b32f6cdf"
      },
      "outputs": [
        {
          "name": "stdout",
          "output_type": "stream",
          "text": [
            "\n",
            "Enter details to append to the file:\n",
            "Enter student name: pratyush\n",
            "Enter roll number: 2\n",
            "Enter marks: 99\n",
            "Record added successfully.\n",
            "Do you want to add another record? (yes/no): no\n",
            "\n",
            "Do you want to see the contents of student.txt? (yes/no): no\n"
          ]
        }
      ],
      "source": [
        "import os\n",
        "\n",
        "filename = \"student.txt\"\n",
        "\n",
        "if not os.path.exists(filename) or os.path.getsize(filename) == 0:\n",
        "    with open(filename, \"w\") as file:\n",
        "\n",
        "        file.write(\"Ravi Kumar, 101, 85\\n\")\n",
        "        file.write(\"Sneha Das, 102, 90\\n\")\n",
        "        print(\"Initialized file with default student records.\")\n",
        "\n",
        "while True:\n",
        "    with open(filename, \"a\") as file:\n",
        "        print(\"\\nEnter details to append to the file:\")\n",
        "        name = input(\"Enter student name: \").strip()\n",
        "        roll = input(\"Enter roll number: \").strip()\n",
        "        marks = input(\"Enter marks: \").strip()\n",
        "        file.write(f\"{name}, {roll}, {marks}\\n\")\n",
        "        print(\"Record added successfully.\")\n",
        "\n",
        "    more = input(\"Do you want to add another record? (yes/no): \").strip().lower()\n",
        "    if more != \"yes\":\n",
        "        break\n",
        "\n",
        "view = input(\"\\nDo you want to see the contents of student.txt? (yes/no): \").strip().lower()\n",
        "if view == \"yes\":\n",
        "    print(\"\\nContents of student.txt:\")\n",
        "    with open(filename, \"r\") as file:\n",
        "        print(file.read())\n"
      ]
    },
    {
      "cell_type": "code",
      "execution_count": null,
      "metadata": {
        "colab": {
          "base_uri": "https://localhost:8080/"
        },
        "id": "e4uZKIsZ0Psk",
        "outputId": "318fac9d-5e7f-4d31-f304-11194b8b5714"
      },
      "outputs": [
        {
          "name": "stdout",
          "output_type": "stream",
          "text": [
            "Enter student details to append:\n",
            "Name: pratyush\n",
            "Roll Number: 2\n",
            "Grade: A\n",
            "Record appended successfully!\n"
          ]
        }
      ],
      "source": [
        "def append_student_record():\n",
        "    filename = \"student.txt\"\n",
        "    print(\"Enter student details to append:\")\n",
        "    name = input(\"Name: \")\n",
        "    roll_no = input(\"Roll Number: \")\n",
        "    grade = input(\"Grade: \")\n",
        "\n",
        "    with open(filename, 'a') as file:\n",
        "        file.write(f\"{name}, {roll_no}, {grade}\\n\")  # Writes in one line\n",
        "    print(\"Record appended successfully!\")\n",
        "\n",
        "append_student_record()"
      ]
    },
    {
      "cell_type": "code",
      "execution_count": null,
      "metadata": {
        "colab": {
          "base_uri": "https://localhost:8080/",
          "height": 1000
        },
        "id": "q3OLiIy207dv",
        "outputId": "73957fe6-4709-491a-edb2-9d32c2a4594a"
      },
      "outputs": [
        {
          "name": "stdout",
          "output_type": "stream",
          "text": [
            "\n",
            "Student Record System\n",
            "1. Add New Records\n",
            "2. View All Records\n",
            "3. Exit\n",
            "Enter your choice (1-3): 2\n",
            "\n",
            "No student data found - please create records first\n",
            "\n",
            "Student Record System\n",
            "1. Add New Records\n",
            "2. View All Records\n",
            "3. Exit\n",
            "Enter your choice (1-3): 1\n",
            "Enter student details (press Enter to stop):\n",
            "\n",
            "New Student Record\n",
            "Roll Number: 2\n",
            "Name: prqtyush\n",
            "Grade: A\n",
            "Remarks: very good\n",
            "\n",
            "New Student Record\n",
            "Roll Number: 1\n",
            "Name: rohan\n",
            "Grade: 90\n",
            "Remarks: good\n",
            "\n",
            "New Student Record\n",
            "Roll Number: 3\n",
            "Name: maha\n",
            "Grade: c\n",
            "Remarks: bad\n",
            "\n",
            "New Student Record\n",
            "Roll Number: 4\n",
            "Name: teg\n",
            "Grade: o\n",
            "Remarks: 100\n",
            "\n",
            "New Student Record\n"
          ]
        },
        {
          "ename": "KeyboardInterrupt",
          "evalue": "Interrupted by user",
          "output_type": "error",
          "traceback": [
            "\u001b[0;31m---------------------------------------------------------------------------\u001b[0m",
            "\u001b[0;31mKeyboardInterrupt\u001b[0m                         Traceback (most recent call last)",
            "\u001b[0;32m<ipython-input-7-9bac85c4dd94>\u001b[0m in \u001b[0;36m<cell line: 0>\u001b[0;34m()\u001b[0m\n\u001b[1;32m     60\u001b[0m \u001b[0;34m\u001b[0m\u001b[0m\n\u001b[1;32m     61\u001b[0m         \u001b[0;32mif\u001b[0m \u001b[0mchoice\u001b[0m \u001b[0;34m==\u001b[0m \u001b[0;34m'1'\u001b[0m\u001b[0;34m:\u001b[0m\u001b[0;34m\u001b[0m\u001b[0;34m\u001b[0m\u001b[0m\n\u001b[0;32m---> 62\u001b[0;31m             \u001b[0mwrite_student_data\u001b[0m\u001b[0;34m(\u001b[0m\u001b[0;34m)\u001b[0m\u001b[0;34m\u001b[0m\u001b[0;34m\u001b[0m\u001b[0m\n\u001b[0m\u001b[1;32m     63\u001b[0m         \u001b[0;32melif\u001b[0m \u001b[0mchoice\u001b[0m \u001b[0;34m==\u001b[0m \u001b[0;34m'2'\u001b[0m\u001b[0;34m:\u001b[0m\u001b[0;34m\u001b[0m\u001b[0;34m\u001b[0m\u001b[0m\n\u001b[1;32m     64\u001b[0m             \u001b[0mread_student_data\u001b[0m\u001b[0;34m(\u001b[0m\u001b[0;34m)\u001b[0m\u001b[0;34m\u001b[0m\u001b[0;34m\u001b[0m\u001b[0m\n",
            "\u001b[0;32m<ipython-input-7-9bac85c4dd94>\u001b[0m in \u001b[0;36mwrite_student_data\u001b[0;34m()\u001b[0m\n\u001b[1;32m      9\u001b[0m     \u001b[0;32mwhile\u001b[0m \u001b[0;32mTrue\u001b[0m\u001b[0;34m:\u001b[0m\u001b[0;34m\u001b[0m\u001b[0;34m\u001b[0m\u001b[0m\n\u001b[1;32m     10\u001b[0m         \u001b[0mprint\u001b[0m\u001b[0;34m(\u001b[0m\u001b[0;34m\"\\nNew Student Record\"\u001b[0m\u001b[0;34m)\u001b[0m\u001b[0;34m\u001b[0m\u001b[0;34m\u001b[0m\u001b[0m\n\u001b[0;32m---> 11\u001b[0;31m         \u001b[0mroll_no\u001b[0m \u001b[0;34m=\u001b[0m \u001b[0minput\u001b[0m\u001b[0;34m(\u001b[0m\u001b[0;34m\"Roll Number: \"\u001b[0m\u001b[0;34m)\u001b[0m\u001b[0;34m\u001b[0m\u001b[0;34m\u001b[0m\u001b[0m\n\u001b[0m\u001b[1;32m     12\u001b[0m         \u001b[0;32mif\u001b[0m \u001b[0;32mnot\u001b[0m \u001b[0mroll_no\u001b[0m\u001b[0;34m:\u001b[0m\u001b[0;34m\u001b[0m\u001b[0;34m\u001b[0m\u001b[0m\n\u001b[1;32m     13\u001b[0m             \u001b[0;32mbreak\u001b[0m\u001b[0;34m\u001b[0m\u001b[0;34m\u001b[0m\u001b[0m\n",
            "\u001b[0;32m/usr/local/lib/python3.11/dist-packages/ipykernel/kernelbase.py\u001b[0m in \u001b[0;36mraw_input\u001b[0;34m(self, prompt)\u001b[0m\n\u001b[1;32m   1175\u001b[0m                 \u001b[0;34m\"raw_input was called, but this frontend does not support input requests.\"\u001b[0m\u001b[0;34m\u001b[0m\u001b[0;34m\u001b[0m\u001b[0m\n\u001b[1;32m   1176\u001b[0m             )\n\u001b[0;32m-> 1177\u001b[0;31m         return self._input_request(\n\u001b[0m\u001b[1;32m   1178\u001b[0m             \u001b[0mstr\u001b[0m\u001b[0;34m(\u001b[0m\u001b[0mprompt\u001b[0m\u001b[0;34m)\u001b[0m\u001b[0;34m,\u001b[0m\u001b[0;34m\u001b[0m\u001b[0;34m\u001b[0m\u001b[0m\n\u001b[1;32m   1179\u001b[0m             \u001b[0mself\u001b[0m\u001b[0;34m.\u001b[0m\u001b[0m_parent_ident\u001b[0m\u001b[0;34m[\u001b[0m\u001b[0;34m\"shell\"\u001b[0m\u001b[0;34m]\u001b[0m\u001b[0;34m,\u001b[0m\u001b[0;34m\u001b[0m\u001b[0;34m\u001b[0m\u001b[0m\n",
            "\u001b[0;32m/usr/local/lib/python3.11/dist-packages/ipykernel/kernelbase.py\u001b[0m in \u001b[0;36m_input_request\u001b[0;34m(self, prompt, ident, parent, password)\u001b[0m\n\u001b[1;32m   1217\u001b[0m             \u001b[0;32mexcept\u001b[0m \u001b[0mKeyboardInterrupt\u001b[0m\u001b[0;34m:\u001b[0m\u001b[0;34m\u001b[0m\u001b[0;34m\u001b[0m\u001b[0m\n\u001b[1;32m   1218\u001b[0m                 \u001b[0;31m# re-raise KeyboardInterrupt, to truncate traceback\u001b[0m\u001b[0;34m\u001b[0m\u001b[0;34m\u001b[0m\u001b[0m\n\u001b[0;32m-> 1219\u001b[0;31m                 \u001b[0;32mraise\u001b[0m \u001b[0mKeyboardInterrupt\u001b[0m\u001b[0;34m(\u001b[0m\u001b[0;34m\"Interrupted by user\"\u001b[0m\u001b[0;34m)\u001b[0m \u001b[0;32mfrom\u001b[0m \u001b[0;32mNone\u001b[0m\u001b[0;34m\u001b[0m\u001b[0;34m\u001b[0m\u001b[0m\n\u001b[0m\u001b[1;32m   1220\u001b[0m             \u001b[0;32mexcept\u001b[0m \u001b[0mException\u001b[0m\u001b[0;34m:\u001b[0m\u001b[0;34m\u001b[0m\u001b[0;34m\u001b[0m\u001b[0m\n\u001b[1;32m   1221\u001b[0m                 \u001b[0mself\u001b[0m\u001b[0;34m.\u001b[0m\u001b[0mlog\u001b[0m\u001b[0;34m.\u001b[0m\u001b[0mwarning\u001b[0m\u001b[0;34m(\u001b[0m\u001b[0;34m\"Invalid Message:\"\u001b[0m\u001b[0;34m,\u001b[0m \u001b[0mexc_info\u001b[0m\u001b[0;34m=\u001b[0m\u001b[0;32mTrue\u001b[0m\u001b[0;34m)\u001b[0m\u001b[0;34m\u001b[0m\u001b[0;34m\u001b[0m\u001b[0m\n",
            "\u001b[0;31mKeyboardInterrupt\u001b[0m: Interrupted by user"
          ]
        }
      ],
      "source": [
        "import pickle\n",
        "\n",
        "def write_student_data():\n",
        "    \"\"\"Write student records to a binary file\"\"\"\n",
        "    filename = \"students.dat\"\n",
        "    students = []\n",
        "\n",
        "    print(\"Enter student details (press Enter to stop):\")\n",
        "    while True:\n",
        "        print(\"\\nNew Student Record\")\n",
        "        roll_no = input(\"Roll Number: \")\n",
        "        if not roll_no:\n",
        "            break\n",
        "        name = input(\"Name: \")\n",
        "        grade = input(\"Grade: \")\n",
        "        remarks = input(\"Remarks: \")\n",
        "\n",
        "        students.append({\n",
        "            'roll_no': roll_no,\n",
        "            'name': name,\n",
        "            'grade': grade,\n",
        "            'remarks': remarks\n",
        "        })\n",
        "\n",
        "    try:\n",
        "        with open(filename, 'wb') as file:\n",
        "            pickle.dump(students, file)\n",
        "        print(f\"\\nSuccessfully saved {len(students)} records to {filename}\")\n",
        "    except IOError as e:\n",
        "        print(f\"\\nError saving file: {e}\")\n",
        "\n",
        "def read_student_data():\n",
        "    \"\"\"Read and display student records from binary file\"\"\"\n",
        "    filename = \"students.dat\"\n",
        "    try:\n",
        "        with open(filename, 'rb') as file:\n",
        "            students = pickle.load(file)\n",
        "            print(\"\\nStudent Records:\")\n",
        "            print(\"-\" * 50)\n",
        "            for student in students:\n",
        "                print(f\"Roll No: {student['roll_no']}\")\n",
        "                print(f\"Name: {student['name']}\")\n",
        "                print(f\"Grade: {student['grade']}\")\n",
        "                print(f\"Remarks: {student['remarks']}\")\n",
        "                print(\"-\" * 50)\n",
        "    except FileNotFoundError:\n",
        "        print(\"\\nNo student data found - please create records first\")\n",
        "    except Exception as e:\n",
        "        print(f\"\\nError reading file: {e}\")\n",
        "\n",
        "# Main program\n",
        "if __name__ == \"__main__\":\n",
        "    while True:\n",
        "        print(\"\\nStudent Record System\")\n",
        "        print(\"1. Add New Records\")\n",
        "        print(\"2. View All Records\")\n",
        "        print(\"3. Exit\")\n",
        "\n",
        "        choice = input(\"Enter your choice (1-3): \")\n",
        "\n",
        "        if choice == '1':\n",
        "            write_student_data()\n",
        "        elif choice == '2':\n",
        "            read_student_data()\n",
        "        elif choice == '3':\n",
        "            print(\"Exiting program...\")\n",
        "            break\n",
        "        else:\n",
        "            print(\"Invalid choice - please enter 1, 2 or 3\")"
      ]
    },
    {
      "cell_type": "markdown",
      "metadata": {
        "id": "wOF2jPFGEFdz"
      },
      "source": [
        "# **Write a python program to write student data in binary file**"
      ]
    },
    {
      "cell_type": "code",
      "execution_count": null,
      "metadata": {
        "colab": {
          "base_uri": "https://localhost:8080/"
        },
        "id": "GLfQ48lB4GF8",
        "outputId": "c8069b06-1425-4835-e509-5550b6da43d6"
      },
      "outputs": [
        {
          "name": "stdout",
          "output_type": "stream",
          "text": [
            "data saved in binary file :)\n"
          ]
        }
      ],
      "source": [
        "import pickle # to save Python objects to a binary file and load them back later\n",
        "\n",
        "student = {\n",
        "    \"roll_no\": 27,\n",
        "    \"name\": \"pratyush\",\n",
        "    \"class\": \"12th\",\n",
        "    \"marks\": 99\n",
        "}\n",
        "with open(\"student.dat\", \"wb\") as file:\n",
        "    pickle.dump(student, file) # save object to binary file\n",
        "\n",
        "print(\"data saved in binary file :)\")\n"
      ]
    },
    {
      "cell_type": "markdown",
      "metadata": {
        "id": "tSTPl9eTH8Tl"
      },
      "source": [
        "# **Write a python program to read student data from a binary file.**"
      ]
    },
    {
      "cell_type": "code",
      "execution_count": null,
      "metadata": {
        "colab": {
          "base_uri": "https://localhost:8080/"
        },
        "id": "sNptRjsPG8d9",
        "outputId": "0d10e0f0-195c-45f8-d0df-ac1d822e81f3"
      },
      "outputs": [
        {
          "name": "stdout",
          "output_type": "stream",
          "text": [
            "Student Records:\n",
            "Roll No: 1, Name: pratyush, Marks: 99\n",
            "Roll No: 2, Name: rohan, Marks: 92\n",
            "Roll No: 3, Name: rahul, Marks: 79\n"
          ]
        }
      ],
      "source": [
        "import pickle\n",
        "\n",
        "students = [\n",
        "    {'roll': 1, 'name': 'pratyush', 'marks': 99},\n",
        "    {'roll': 2, 'name': 'rohan', 'marks': 92},\n",
        "    {'roll': 3, 'name': 'rahul', 'marks': 79}\n",
        "]\n",
        "\n",
        "with open('students.dat', 'wb') as file:\n",
        "    pickle.dump(students, file)\n",
        "\n",
        "try:\n",
        "    with open('students.dat', 'rb') as file:\n",
        "        loaded_students = pickle.load(file)\n",
        "\n",
        "        print(\"Student Records:\")\n",
        "        for student in loaded_students:\n",
        "            print(f\"Roll No: {student['roll']}, Name: {student['name']}, Marks: {student['marks']}\")\n",
        "\n",
        "except FileNotFoundError:\n",
        "    print(\"The file was not found.\")\n",
        "except EOFError:\n",
        "    print(\"The file is empty.\")\n",
        "except Exception as e:\n",
        "    print(\"An error occurred:\", e)\n"
      ]
    },
    {
      "cell_type": "code",
      "execution_count": null,
      "metadata": {
        "colab": {
          "base_uri": "https://localhost:8080/"
        },
        "id": "MG4-5RfAG_Vb",
        "outputId": "0ed28c85-2394-498a-e974-49c019e5d2e6"
      },
      "outputs": [
        {
          "name": "stdout",
          "output_type": "stream",
          "text": [
            "Enter roll number of the student to update: 1\n",
            "Current data: {'roll': 1, 'name': 'pratyush', 'marks': 99}\n",
            "Enter new name: pratyush\n",
            "Enter new marks: 99999\n",
            "Student record updated.\n"
          ]
        }
      ],
      "source": [
        "import pickle\n",
        "import os\n",
        "\n",
        "filename = 'students.dat'\n",
        "\n",
        "def load_students():\n",
        "    try:\n",
        "        with open(filename, 'rb') as file:\n",
        "            return pickle.load(file)\n",
        "    except (FileNotFoundError, EOFError):\n",
        "        return []\n",
        "\n",
        "def save_students(students):\n",
        "    with open(filename, 'wb') as file:\n",
        "        pickle.dump(students, file)\n",
        "\n",
        "def update_student(roll_no):\n",
        "    students = load_students()\n",
        "    found = False\n",
        "\n",
        "    for student in students:\n",
        "        if student['roll'] == roll_no:\n",
        "            print(f\"Current data: {student}\")\n",
        "            student['name'] = input(\"Enter new name: \")\n",
        "            student['marks'] = int(input(\"Enter new marks: \"))\n",
        "            found = True\n",
        "            break\n",
        "\n",
        "    if found:\n",
        "        save_students(students)\n",
        "        print(\"Student record updated.\")\n",
        "    else:\n",
        "        print(\"Student with that roll number not found.\")\n",
        "roll = int(input(\"Enter roll number of the student to update: \"))\n",
        "update_student(roll)\n"
      ]
    },
    {
      "cell_type": "code",
      "execution_count": null,
      "metadata": {
        "colab": {
          "base_uri": "https://localhost:8080/"
        },
        "id": "30bljtsSKZYI",
        "outputId": "411c4c15-3ab8-46a3-d51f-03765897a5a4"
      },
      "outputs": [
        {
          "name": "stdout",
          "output_type": "stream",
          "text": [
            "Enter roll number to update: 3\n",
            "Enter new name: maha\n",
            "Enter new marks: 90\n",
            "Student record updated.\n"
          ]
        }
      ],
      "source": [
        "import pickle\n",
        "\n",
        "filename = 'students.dat'\n",
        "\n",
        "try:\n",
        "    with open(filename, 'rb') as f:\n",
        "        students = pickle.load(f)\n",
        "except (FileNotFoundError, EOFError):\n",
        "    students = []\n",
        "\n",
        "roll = int(input(\"Enter roll number to update: \"))\n",
        "for s in students:\n",
        "    if s['roll'] == roll:\n",
        "        s['name'] = input(\"Enter new name: \")\n",
        "        s['marks'] = int(input(\"Enter new marks: \"))\n",
        "        break\n",
        "else:\n",
        "    print(\"Student not found.\")\n",
        "    exit()\n",
        "\n",
        "with open(filename, 'wb') as f:\n",
        "    pickle.dump(students, f)\n",
        "\n",
        "print(\"Student record updated.\")\n"
      ]
    },
    {
      "cell_type": "code",
      "execution_count": null,
      "metadata": {
        "colab": {
          "base_uri": "https://localhost:8080/"
        },
        "id": "S7Em6EcYLxRO",
        "outputId": "ad29af5d-5146-43f5-e156-d021744b21bb"
      },
      "outputs": [
        {
          "name": "stdout",
          "output_type": "stream",
          "text": [
            "\n",
            " Student Data Before Update \n",
            "{'roll': 1, 'name': 'pratyush', 'marks': 99999}\n",
            "{'roll': 2, 'name': 'rohan', 'marks': 92}\n",
            "{'roll': 3, 'name': 'maha', 'marks': 90}\n",
            "\n",
            "Enter roll number to update: 3\n",
            "Enter new name: maharana\n",
            "Enter new marks: 10\n",
            "\n",
            " Student Data After Update \n",
            "{'roll': 1, 'name': 'pratyush', 'marks': 99999}\n",
            "{'roll': 2, 'name': 'rohan', 'marks': 92}\n",
            "{'roll': 3, 'name': 'maharana', 'marks': 10}\n"
          ]
        }
      ],
      "source": [
        "import pickle\n",
        "\n",
        "filename = 'students.dat'\n",
        "\n",
        "try:\n",
        "    with open(filename, 'rb') as f:\n",
        "        students = pickle.load(f)\n",
        "except (FileNotFoundError, EOFError):\n",
        "    print(\"File not found or empty.\")\n",
        "    students = []\n",
        "\n",
        "print(\"\\n Student Data Before Update \")\n",
        "for s in students:\n",
        "    print(s)\n",
        "\n",
        "roll = int(input(\"\\nEnter roll number to update: \"))\n",
        "for s in students:\n",
        "    if s['roll'] == roll:\n",
        "        s['name'] = input(\"Enter new name: \")\n",
        "        s['marks'] = int(input(\"Enter new marks: \"))\n",
        "        break\n",
        "else:\n",
        "    print(\"Student not found.\")\n",
        "    exit()\n",
        "\n",
        "with open(filename, 'wb') as f:\n",
        "    pickle.dump(students, f)\n",
        "\n",
        "print(\"\\n Student Data After Update \")\n",
        "for s in students:\n",
        "    print(s)\n"
      ]
    },
    {
      "cell_type": "code",
      "execution_count": null,
      "metadata": {
        "id": "iMaaamBsMMOS"
      },
      "outputs": [],
      "source": [
        "import pickle\n",
        "\n",
        "try:\n",
        "    with open('students.dat', 'rb') as f:\n",
        "        data = pickle.load(f)\n",
        "except:\n",
        "    data = []\n",
        "\n",
        "print(\"\\nBefore:\", *data, sep=\"\\n\")\n",
        "\n",
        "roll = int(input(\"\\nRoll to delete: \"))\n",
        "deleted = [s for s in data if s['roll'] == roll]\n",
        "\n",
        "if deleted:\n",
        "    data = [s for s in data if s['roll'] != roll]\n",
        "    with open('students.dat', 'wb') as f:\n",
        "        pickle.dump(data, f)\n",
        "    print(f\"\\nDeleted: {deleted[0]}\")\n",
        "else:\n",
        "    print(\"\\nNot found.\")\n",
        "\n",
        "print(\"\\nAfter:\", *data, sep=\"\\n\")\n"
      ]
    },
    {
      "cell_type": "code",
      "execution_count": null,
      "metadata": {
        "id": "bYAyWStzlZmP"
      },
      "outputs": [],
      "source": [
        "import pickle\n",
        "\n",
        "try:\n",
        "    with open('students.dat', 'rb') as f:\n",
        "        data = pickle.load(f)\n",
        "except:\n",
        "    data = []\n",
        "\n",
        "print(\"\\nBefore:\", *data, sep=\"\\n\")\n",
        "roll = int(input(\"\\nRoll to update: \"))\n",
        "\n",
        "for s in data:\n",
        "    if s['roll'] == roll:\n",
        "        s['name'] = input(\"New name: \")\n",
        "        s['marks'] = int(input(\"New marks: \"))\n",
        "        break\n",
        "else:\n",
        "    print(\"Not found.\"); exit()\n",
        "\n",
        "with open('students.dat', 'wb') as f:\n",
        "    pickle.dump(data, f)\n",
        "\n",
        "print(\"\\nAfter:\", *data, sep=\"\\n\")\n"
      ]
    },
    {
      "cell_type": "code",
      "execution_count": null,
      "metadata": {
        "colab": {
          "base_uri": "https://localhost:8080/"
        },
        "id": "yAM8KYYAnWAW",
        "outputId": "06500b27-c389-4cea-dc7f-d4e11d246bcb"
      },
      "outputs": [
        {
          "name": "stdout",
          "output_type": "stream",
          "text": [
            "Enter Roll Number to Search: 2\n",
            "\n",
            "Student Found:\n",
            "Roll: 2\n",
            "Name: Rohan\n",
            "Marks: 92\n"
          ]
        }
      ],
      "source": [
        "import pickle\n",
        "\n",
        "try:\n",
        "    with open('students.dat', 'rb') as f:\n",
        "        students = pickle.load(f)\n",
        "except:\n",
        "    students = []\n",
        "\n",
        "roll = int(input(\"Enter Roll Number to Search: \"))\n",
        "record = next((s for s in students if s['roll'] == roll), None)\n",
        "\n",
        "if record:\n",
        "    print(\"\\nStudent Found:\")\n",
        "    print(f\"Roll: {record['roll']}\\nName: {record['name'].title()}\\nMarks: {record['marks']}\")\n",
        "else:\n",
        "\n",
        "    print(\"\\nNo student found with that roll number.\")\n"
      ]
    },
    {
      "cell_type": "code",
      "execution_count": null,
      "metadata": {
        "colab": {
          "base_uri": "https://localhost:8080/"
        },
        "id": "EZ9n5dyGyGmT",
        "outputId": "c37f300c-3de9-4e62-8fc2-6e9418d76f4f"
      },
      "outputs": [
        {
          "name": "stdout",
          "output_type": "stream",
          "text": [
            "Guess a number between 1 and 6: 22\n",
            "Sorry, you lost. The winning number was 5. Try again!\n"
          ]
        }
      ],
      "source": [
        "import random\n",
        "\n",
        "def roll_dice():\n",
        "    return random.randint(1, 6)\n",
        "\n",
        "# User input\n",
        "user_guess = int(input(\"Guess a number between 1 and 6: \"))\n",
        "\n",
        "# Generate random number\n",
        "lottery_number = roll_dice()\n",
        "\n",
        "# Check win or lose\n",
        "if user_guess == lottery_number:\n",
        "    print(\"Congratulations! You won the lottery! 🎉\")\n",
        "else:\n",
        "    print(f\"Sorry, you lost. The winning number was {lottery_number}. Try again!\")\n"
      ]
    },
    {
      "cell_type": "code",
      "execution_count": null,
      "metadata": {
        "colab": {
          "base_uri": "https://localhost:8080/"
        },
        "id": "YkYva4F8szst",
        "outputId": "1d1b8b4d-d4a3-4a66-ab0f-e8a6b590ec98"
      },
      "outputs": [
        {
          "name": "stdout",
          "output_type": "stream",
          "text": [
            "Enter number of students: 1\n",
            "Enter name: pratyush\n",
            "Enter roll number: 27\n",
            "File created successfully.\n",
            "\n",
            "Enter roll number to search: 1\n",
            "Roll number not found.\n"
          ]
        }
      ],
      "source": [
        "import pickle\n",
        "\n",
        "def create_file(filename):\n",
        "    with open(filename, 'wb') as f:\n",
        "        n = int(input(\"Enter number of students: \"))\n",
        "        for _ in range(n):\n",
        "            name = input(\"Enter name: \")\n",
        "            roll = int(input(\"Enter roll number: \"))\n",
        "            data = {'name': name, 'roll': roll}\n",
        "            pickle.dump(data, f)\n",
        "    print(\"File created successfully.\\n\")\n",
        "def search_roll(filename, roll_to_search):\n",
        "    found = False\n",
        "    try:\n",
        "        with open(filename, 'rb') as f:\n",
        "            while True:\n",
        "                try:\n",
        "                    data = pickle.load(f)\n",
        "                    if data['roll'] == roll_to_search:\n",
        "                        print(f\"Roll Number: {roll_to_search}, Name: {data['name']}\")\n",
        "                        found = True\n",
        "                        break\n",
        "                except EOFError:\n",
        "                    break\n",
        "        if not found:\n",
        "            print(\"Roll number not found.\")\n",
        "    except FileNotFoundError:\n",
        "        print(\"File does not exist.\")\n",
        "\n",
        "filename = \"students.dat\"\n",
        "create_file(filename)\n",
        "roll = int(input(\"Enter roll number to search: \"))\n",
        "search_roll(filename, roll)\n"
      ]
    },
    {
      "cell_type": "code",
      "execution_count": null,
      "metadata": {
        "id": "pFhq-ChTvQ6n"
      },
      "outputs": [],
      "source": [
        "def update_marks_mini(filename, roll, new_marks):\n",
        "    with open(filename, 'rb') as f:\n",
        "        students = pickle.load(f)\n",
        "    for s in students:\n",
        "        if s['roll'] == roll:\n",
        "            s['marks'] = new_marks\n",
        "            with open(filename, 'wb') as f:\n",
        "                pickle.dump(students, f)\n",
        "            return True\n",
        "    return False"
      ]
    },
    {
      "cell_type": "code",
      "execution_count": null,
      "metadata": {
        "colab": {
          "base_uri": "https://localhost:8080/",
          "height": 344
        },
        "id": "GWXTw_GhQamp",
        "outputId": "bfd49106-728e-4214-97f3-4d086313ec2b"
      },
      "outputs": [
        {
          "ename": "TypeError",
          "evalue": "dump() missing required argument 'file' (pos 2)",
          "output_type": "error",
          "traceback": [
            "\u001b[0;31m---------------------------------------------------------------------------\u001b[0m",
            "\u001b[0;31mTypeError\u001b[0m                                 Traceback (most recent call last)",
            "\u001b[0;32m<ipython-input-6-6ddf44eae961>\u001b[0m in \u001b[0;36m<cell line: 0>\u001b[0;34m()\u001b[0m\n\u001b[1;32m      6\u001b[0m \u001b[0;34m\u001b[0m\u001b[0m\n\u001b[1;32m      7\u001b[0m \u001b[0;31m# Usage\u001b[0m\u001b[0;34m\u001b[0m\u001b[0;34m\u001b[0m\u001b[0m\n\u001b[0;32m----> 8\u001b[0;31m \u001b[0msave\u001b[0m\u001b[0;34m(\u001b[0m\u001b[0;34m[\u001b[0m\u001b[0;34m{\u001b[0m\u001b[0;34m'r'\u001b[0m\u001b[0;34m:\u001b[0m\u001b[0;36m1\u001b[0m\u001b[0;34m,\u001b[0m\u001b[0;34m'n'\u001b[0m\u001b[0;34m:\u001b[0m\u001b[0;34m'A'\u001b[0m\u001b[0;34m,\u001b[0m\u001b[0;34m'm'\u001b[0m\u001b[0;34m:\u001b[0m\u001b[0;36m85\u001b[0m\u001b[0;34m}\u001b[0m\u001b[0;34m,\u001b[0m\u001b[0;34m{\u001b[0m\u001b[0;34m'r'\u001b[0m\u001b[0;34m:\u001b[0m\u001b[0;36m2\u001b[0m\u001b[0;34m,\u001b[0m\u001b[0;34m'n'\u001b[0m\u001b[0;34m:\u001b[0m\u001b[0;34m'B'\u001b[0m\u001b[0;34m,\u001b[0m\u001b[0;34m'm'\u001b[0m\u001b[0;34m:\u001b[0m\u001b[0;36m90\u001b[0m\u001b[0;34m}\u001b[0m\u001b[0;34m]\u001b[0m\u001b[0;34m)\u001b[0m  \u001b[0;31m# Create\u001b[0m\u001b[0;34m\u001b[0m\u001b[0;34m\u001b[0m\u001b[0m\n\u001b[0m\u001b[1;32m      9\u001b[0m \u001b[0mupdate\u001b[0m\u001b[0;34m(\u001b[0m\u001b[0;36m2\u001b[0m\u001b[0;34m,\u001b[0m\u001b[0;36m95\u001b[0m\u001b[0;34m)\u001b[0m  \u001b[0;31m# Update roll 2 to marks=95\u001b[0m\u001b[0;34m\u001b[0m\u001b[0;34m\u001b[0m\u001b[0m\n\u001b[1;32m     10\u001b[0m \u001b[0mprint\u001b[0m\u001b[0;34m(\u001b[0m\u001b[0;34m\"Final:\"\u001b[0m\u001b[0;34m,\u001b[0m\u001b[0mload\u001b[0m\u001b[0;34m(\u001b[0m\u001b[0;34m)\u001b[0m\u001b[0;34m)\u001b[0m  \u001b[0;31m# Verify\u001b[0m\u001b[0;34m\u001b[0m\u001b[0;34m\u001b[0m\u001b[0m\n",
            "\u001b[0;32m<ipython-input-6-6ddf44eae961>\u001b[0m in \u001b[0;36msave\u001b[0;34m(d)\u001b[0m\n\u001b[1;32m      1\u001b[0m \u001b[0;32mimport\u001b[0m \u001b[0mpickle\u001b[0m \u001b[0;32mas\u001b[0m \u001b[0mp\u001b[0m\u001b[0;34m\u001b[0m\u001b[0;34m\u001b[0m\u001b[0m\n\u001b[1;32m      2\u001b[0m \u001b[0;34m\u001b[0m\u001b[0m\n\u001b[0;32m----> 3\u001b[0;31m \u001b[0;32mdef\u001b[0m \u001b[0msave\u001b[0m\u001b[0;34m(\u001b[0m\u001b[0md\u001b[0m\u001b[0;34m)\u001b[0m\u001b[0;34m:\u001b[0m \u001b[0mp\u001b[0m\u001b[0;34m.\u001b[0m\u001b[0mdump\u001b[0m\u001b[0;34m(\u001b[0m\u001b[0md\u001b[0m\u001b[0;34m:=\u001b[0m\u001b[0mopen\u001b[0m\u001b[0;34m(\u001b[0m\u001b[0;34m's.dat'\u001b[0m\u001b[0;34m,\u001b[0m\u001b[0;34m'wb'\u001b[0m\u001b[0;34m)\u001b[0m\u001b[0;34m)\u001b[0m \u001b[0;32mor\u001b[0m \u001b[0mprint\u001b[0m\u001b[0;34m(\u001b[0m\u001b[0;34m\"Saved:\"\u001b[0m\u001b[0;34m,\u001b[0m\u001b[0md\u001b[0m\u001b[0;34m)\u001b[0m\u001b[0;34m\u001b[0m\u001b[0;34m\u001b[0m\u001b[0m\n\u001b[0m\u001b[1;32m      4\u001b[0m \u001b[0;32mdef\u001b[0m \u001b[0mload\u001b[0m\u001b[0;34m(\u001b[0m\u001b[0;34m)\u001b[0m\u001b[0;34m:\u001b[0m \u001b[0;32mreturn\u001b[0m \u001b[0mp\u001b[0m\u001b[0;34m.\u001b[0m\u001b[0mload\u001b[0m\u001b[0;34m(\u001b[0m\u001b[0mopen\u001b[0m\u001b[0;34m(\u001b[0m\u001b[0;34m's.dat'\u001b[0m\u001b[0;34m,\u001b[0m\u001b[0;34m'rb'\u001b[0m\u001b[0;34m)\u001b[0m\u001b[0;34m)\u001b[0m\u001b[0;34m\u001b[0m\u001b[0;34m\u001b[0m\u001b[0m\n\u001b[1;32m      5\u001b[0m \u001b[0;32mdef\u001b[0m \u001b[0mupdate\u001b[0m\u001b[0;34m(\u001b[0m\u001b[0mr\u001b[0m\u001b[0;34m,\u001b[0m\u001b[0mm\u001b[0m\u001b[0;34m)\u001b[0m\u001b[0;34m:\u001b[0m \u001b[0;34m[\u001b[0m\u001b[0mx\u001b[0m\u001b[0;34m.\u001b[0m\u001b[0m__setitem__\u001b[0m\u001b[0;34m(\u001b[0m\u001b[0;34m'm'\u001b[0m\u001b[0;34m,\u001b[0m\u001b[0mm\u001b[0m\u001b[0;34m)\u001b[0m \u001b[0;32mfor\u001b[0m \u001b[0mx\u001b[0m \u001b[0;32min\u001b[0m \u001b[0mload\u001b[0m\u001b[0;34m(\u001b[0m\u001b[0;34m)\u001b[0m \u001b[0;32mif\u001b[0m \u001b[0mx\u001b[0m\u001b[0;34m[\u001b[0m\u001b[0;34m'r'\u001b[0m\u001b[0;34m]\u001b[0m\u001b[0;34m==\u001b[0m\u001b[0mr\u001b[0m\u001b[0;34m]\u001b[0m \u001b[0;32mand\u001b[0m \u001b[0msave\u001b[0m\u001b[0;34m(\u001b[0m\u001b[0md\u001b[0m\u001b[0;34m)\u001b[0m\u001b[0;34m\u001b[0m\u001b[0;34m\u001b[0m\u001b[0m\n",
            "\u001b[0;31mTypeError\u001b[0m: dump() missing required argument 'file' (pos 2)"
          ]
        }
      ],
      "source": [
        "import pickle as p\n",
        "\n",
        "def save(d): p.dump(d:=open('s.dat','wb')) or print(\"Saved:\",d)\n",
        "def load(): return p.load(open('s.dat','rb'))\n",
        "def update(r,m): [x.__setitem__('m',m) for x in load() if x['r']==r] and save(d)\n",
        "\n",
        "# Usage\n",
        "save([{'r':1,'n':'A','m':85},{'r':2,'n':'B','m':90}])  # Create\n",
        "update(2,95)  # Update roll 2 to marks=95\n",
        "print(\"Final:\",load())  # Verify"
      ]
    },
    {
      "cell_type": "code",
      "execution_count": null,
      "metadata": {
        "colab": {
          "base_uri": "https://localhost:8080/"
        },
        "id": "338vIP95Qj1x",
        "outputId": "e223b07a-7991-4093-f8c7-0b2f5107d2d8"
      },
      "outputs": [
        {
          "name": "stdout",
          "output_type": "stream",
          "text": [
            "Saved: [{'r': 1, 'n': 'A', 'm': 85}, {'r': 2, 'n': 'B', 'm': 90}]\n",
            "Saved: [{'r': 1, 'n': 'A', 'm': 85}, {'r': 2, 'n': 'B', 'm': 95}]\n",
            "Final: [{'r': 1, 'n': 'A', 'm': 85}, {'r': 2, 'n': 'B', 'm': 95}]\n"
          ]
        }
      ],
      "source": [
        "import pickle as p\n",
        "\n",
        "def save(d):\n",
        "    with open('s.dat','wb') as f: p.dump(d,f)\n",
        "    print(\"Saved:\", d)\n",
        "\n",
        "def load():\n",
        "    with open('s.dat','rb') as f: return p.load(f)\n",
        "\n",
        "def update(r,m):\n",
        "    d = load()\n",
        "    [x.__setitem__('m',m) for x in d if x['r']==r]\n",
        "    save(d)\n",
        "save([{'r':1,'n':'A','m':85},{'r':2,'n':'B','m':90}])\n",
        "update(2,95)\n",
        "print(\"Final:\", load())"
      ]
    },
    {
      "cell_type": "code",
      "execution_count": null,
      "metadata": {
        "colab": {
          "base_uri": "https://localhost:8080/"
        },
        "id": "z1vr46f0Rvls",
        "outputId": "2192c65e-1fb5-462b-e6f3-8a26b88dde96"
      },
      "outputs": [
        {
          "name": "stdout",
          "output_type": "stream",
          "text": [
            "How many students? 1\n",
            "Enter roll number: 27\n",
            "Enter name: pratyush\n",
            "Enter marks: 99\n",
            "File created successfully.\n",
            "\n",
            "Enter the roll number to update marks: 1\n",
            "Roll number not found.\n"
          ]
        }
      ],
      "source": [
        "import pickle\n",
        "def create():\n",
        "    roll = int(input(\"Enter roll number: \"))\n",
        "    name = input(\"Enter name: \")\n",
        "    marks = float(input(\"Enter marks: \"))\n",
        "    return {'roll': roll, 'name': name, 'marks': marks}\n",
        "def binfile(filename):\n",
        "    n = int(input(\"How many students? \"))\n",
        "    with open(filename, 'wb') as file:\n",
        "        for _ in range(n):\n",
        "            student = create()\n",
        "            pickle.dump(student, file)\n",
        "    print(\"File created successfully.\\n\")\n",
        "\n",
        "def update_marks(filename, search_roll):\n",
        "    found = False\n",
        "    students = []\n",
        "    with open(filename, 'rb') as file:\n",
        "        try:\n",
        "            while True:\n",
        "                student = pickle.load(file)\n",
        "                students.append(student)\n",
        "        except EOFError:\n",
        "            pass\n",
        "    for student in students:\n",
        "        if student['roll'] == search_roll:\n",
        "            print(f\"Current marks for {student['name']}: {student['marks']}\")\n",
        "            student['marks'] = float(input(\"Enter new marks: \"))\n",
        "            found = True\n",
        "            break\n",
        "    if not found:\n",
        "        print(\"Roll number not found.\")\n",
        "        return\n",
        "    with open(filename, 'wb') as file:\n",
        "        for student in students:\n",
        "            pickle.dump(student, file)\n",
        "    print(\"Marks updated successfully.\\n\")\n",
        "filename = 'students.dat'\n",
        "binfile(filename)\n",
        "update = int(input(\"Enter the roll number to update marks: \"))\n",
        "update_marks(filename, update)\n"
      ]
    },
    {
      "cell_type": "code",
      "execution_count": null,
      "metadata": {
        "colab": {
          "base_uri": "https://localhost:8080/"
        },
        "id": "Kzw4wH2iUMII",
        "outputId": "5728f189-2667-48e2-d485-00cf166fa074"
      },
      "outputs": [
        {
          "name": "stdout",
          "output_type": "stream",
          "text": [
            "Number of students: 1\n",
            "Roll: 27\n",
            "Name: pratyush\n",
            "Marks: 99\n",
            "Enter roll to update marks: 2\n",
            "Roll number not found.\n"
          ]
        }
      ],
      "source": [
        "import pickle\n",
        "\n",
        "def create_file(fname):\n",
        "    with open(fname, 'wb') as f:\n",
        "        for _ in range(int(input(\"Number of students: \"))):\n",
        "            data = {'roll': int(input(\"Roll: \")), 'name': input(\"Name: \"), 'marks': float(input(\"Marks: \"))}\n",
        "            pickle.dump(data, f)\n",
        "\n",
        "def update_marks(fname, roll):\n",
        "    students, found = [], False\n",
        "    with open(fname, 'rb') as f:\n",
        "        try:\n",
        "            while True: students.append(pickle.load(f))\n",
        "        except EOFError: pass\n",
        "\n",
        "    for s in students:\n",
        "        if s['roll'] == roll:\n",
        "            s['marks'] = float(input(f\"Current marks: {s['marks']}. Enter new marks: \"))\n",
        "            found = True\n",
        "            break\n",
        "\n",
        "    if found:\n",
        "        with open(fname, 'wb') as f:\n",
        "            for s in students: pickle.dump(s, f)\n",
        "        print(\"Marks updated successfully.\")\n",
        "    else:\n",
        "        print(\"Roll number not found.\")\n",
        "\n",
        "file = 'students.dat'\n",
        "create_file(file)\n",
        "update_marks(file, int(input(\"Enter roll to update marks: \")))\n"
      ]
    },
    {
      "cell_type": "markdown",
      "metadata": {
        "id": "qJqDnOiSSCGs"
      },
      "source": [
        "## *read and write operation in csv.file*"
      ]
    },
    {
      "cell_type": "code",
      "execution_count": null,
      "metadata": {
        "colab": {
          "base_uri": "https://localhost:8080/"
        },
        "id": "Iw9trIhmYSIQ",
        "outputId": "913bf15c-0260-4b4e-d962-ecebb85e9b35"
      },
      "outputs": [
        {
          "name": "stdout",
          "output_type": "stream",
          "text": [
            "Data has been written to csv.file\n",
            "\n",
            "Reading data from: csv.file\n",
            "['roll', 'Name', 'Score']\n",
            "['27', 'Pratyush', '99']\n",
            "['28', 'rohan', '87']\n",
            "['21', 'piyush', '95']\n"
          ]
        }
      ],
      "source": [
        "import csv\n",
        "\n",
        "def write():\n",
        "    file_name = \"csv.file\"\n",
        "    data = [\n",
        "        [\"roll\", \"Name\", \"Marks\"],\n",
        "        [27, \"Pratyush\", 99],\n",
        "        [28, \"rohan\", 87],\n",
        "        [21, \"piyush\", 95]\n",
        "    ]\n",
        "    with open(file_name, mode='w', newline='') as f:\n",
        "        writer = csv.writer(f)\n",
        "        writer.writerows(data)\n",
        "\n",
        "    print(\"Data has been written to\", file_name)\n",
        "\n",
        "\n",
        "# Function to read and display data from the CSV file\n",
        "def read():\n",
        "    file_name = \"csv.file\"\n",
        "    print(\"\\nReading data from:\", file_name)\n",
        "\n",
        "    with open(file_name, mode='r') as f:\n",
        "        reader = csv.reader(f)\n",
        "        for row in reader:\n",
        "            print(row)\n",
        "\n",
        "\n",
        "# Main code execution\n",
        "write()\n",
        "read()\n"
      ]
    },
    {
      "cell_type": "code",
      "execution_count": null,
      "metadata": {
        "colab": {
          "base_uri": "https://localhost:8080/"
        },
        "id": "O3V13wIIzF5d",
        "outputId": "c5cc3af7-3fc9-4ac2-c3a6-207e5580fd0f"
      },
      "outputs": [
        {
          "name": "stdout",
          "output_type": "stream",
          "text": [
            "data is written to meow.csv\n",
            "\n",
            "Reading data from meow.csv\n",
            "['roll', 'name', 'marks']\n",
            "['1', 'pratyush', '99']\n",
            "['2', 'rohan', '98']\n",
            "['3', 'piyush', '97']\n"
          ]
        }
      ],
      "source": [
        "import csv\n",
        "def write():\n",
        "  file_name=\"meow.csv\"\n",
        "  data=[\n",
        "      [\"roll\",\"name\",\"marks\"],  #data is written to meow.csv\n",
        "      [1 ,'pratyush', 99],\n",
        "      [2 ,'rohan', 98],\n",
        "      [3 ,'piyush', 97],\n",
        "  ]\n",
        "  with open(file_name,mode='w',newline='') as f:\n",
        "    writer=csv.writer(f)\n",
        "    writer.writerows(data)\n",
        "  print(\"data is written to\",file_name)\n",
        "\n",
        "def read():\n",
        "    file_name='meow.csv'\n",
        "    print(\"\\nReading data from\",file_name)\n",
        "    with open(file_name,mode='r') as f:\n",
        "      reader=csv.reader(f)\n",
        "      for row in reader:\n",
        "        print(row)\n",
        "write()\n",
        "read()"
      ]
    },
    {
      "cell_type": "markdown",
      "metadata": {
        "id": "F4jW2U70R0ns"
      },
      "source": [
        "## convert ascii to charcter vice versa"
      ]
    },
    {
      "cell_type": "code",
      "execution_count": null,
      "metadata": {
        "colab": {
          "base_uri": "https://localhost:8080/"
        },
        "id": "rjKbWFJy1dvx",
        "outputId": "2d15b620-23b0-4508-b52c-709b9e40bd50"
      },
      "outputs": [
        {
          "name": "stdout",
          "output_type": "stream",
          "text": [
            "Enter character: p\n",
            "ASCII -> 112\n",
            "Enter ASCII code: 113\n",
            "Character → q\n"
          ]
        }
      ],
      "source": [
        "def ascii():\n",
        "    c = input(\"Enter character: \")\n",
        "    if len(c) == 1:\n",
        "        print(\"ASCII ->\", ord(c))\n",
        "    else:\n",
        "        print(\"Only 1 character allowed.\")\n",
        "def char():\n",
        "    n = int(input(\"Enter ASCII code: \"))\n",
        "    if 0 <= n <= 127:\n",
        "        print(\"Character →\", chr(n))\n",
        "    else:\n",
        "        print(\"Invalid ASCII code.\")\n",
        "ascii()\n",
        "char()\n"
      ]
    },
    {
      "cell_type": "code",
      "execution_count": null,
      "metadata": {
        "colab": {
          "base_uri": "https://localhost:8080/"
        },
        "id": "KhQkz0vGcTVP",
        "outputId": "8cb18263-7902-4683-9c38-6c9ec38a8fca"
      },
      "outputs": [
        {
          "name": "stdout",
          "output_type": "stream",
          "text": [
            "How many users to add? 2\n",
            "Enter user ID 1: 3\n",
            "Enter password for 3: 3\n",
            "Enter user ID 2: 4\n",
            "Enter password for 4: 5\n",
            "All user data saved to users.csv\n",
            "Enter user ID to search: 6\n",
            "User ID not found.\n"
          ]
        }
      ],
      "source": [
        "import csv\n",
        "def save():\n",
        "    file = \"users.csv\"\n",
        "    n = int(input(\"How many users to add? \"))\n",
        "    with open(file, mode='w', newline='') as f:\n",
        "        writer = csv.writer(f)\n",
        "        writer.writerow([\"user_id\", \"password\"])\n",
        "        for i in range(n):\n",
        "            uid = input(f\"Enter user ID {i+1}: \")\n",
        "            pwd = input(f\"Enter password for {uid}: \")\n",
        "            writer.writerow([uid, pwd])\n",
        "    print(\"All user data saved to\", file)\n",
        "def search():\n",
        "    file = \"users.csv\"\n",
        "    uid = input(\"Enter user ID to search: \")\n",
        "    found = False\n",
        "    with open(file, mode='r') as f:\n",
        "        reader = csv.reader(f)\n",
        "        for row in reader:\n",
        "            if row[0] == uid:\n",
        "                print(\"Password for\", uid, \"is:\", row[1])\n",
        "                found = True\n",
        "                break\n",
        "    if not found:\n",
        "        print(\"User ID not found.\")\n",
        "save()\n",
        "search()\n"
      ]
    },
    {
      "cell_type": "code",
      "execution_count": null,
      "metadata": {
        "id": "ncPyMxJ1cUB6"
      },
      "outputs": [],
      "source": [
        "def count_lines():\n",
        "  file=open(\"story.txt\",\"r\")\n",
        "  lines=file.readlines()\n",
        "  count=0\n",
        "  for w in lines:\n",
        "    if w[0]==\"A\" or w[0]== \"a\":\n",
        "      count+=1\n",
        "  print(\"total lines with 'a' or'A'\")\n",
        "  file.close()"
      ]
    },
    {
      "cell_type": "code",
      "execution_count": null,
      "metadata": {
        "id": "wMBXjU1oLDjD"
      },
      "outputs": [],
      "source": [
        "def count():\n",
        "  a=0\n",
        "  f=open(\"story.txt\",\"r\")\n",
        "  sum=f.read().split()\n",
        "  for x in sum:\n",
        "    if x==\"Me\" or x==\"My\":\n",
        "      print(x)\n",
        "      a+=1\n",
        "  f.close()\n",
        "  print(a)"
      ]
    },
    {
      "cell_type": "code",
      "execution_count": null,
      "metadata": {
        "id": "bpgoIZmFMGWE"
      },
      "outputs": [],
      "source": [
        "def count():\n",
        "  a=0\n",
        "  f=open(\"story.txt\",\"r\")\n",
        "  sum=f.read().split()\n",
        "  for x in sum:\n",
        "    if x==\"Me\" or x==\"My\":\n",
        "      print(x)\n",
        "      a+=1\n",
        "  f.close()\n",
        "  print(a)\n"
      ]
    },
    {
      "cell_type": "code",
      "execution_count": null,
      "metadata": {
        "colab": {
          "base_uri": "https://localhost:8080/"
        },
        "id": "4Ce6mpEXIFde",
        "outputId": "b4c51f30-ac0a-41ab-e2cd-693b4b712794"
      },
      "outputs": [
        {
          "name": "stdout",
          "output_type": "stream",
          "text": [
            "Enter the number >> 1,8\n",
            "1\n",
            "8\n"
          ]
        }
      ],
      "source": [
        "a , b = map(int, input('Enter the number >> ').split(','))\n",
        "print(a)\n",
        "print(max(a,b))\n"
      ]
    },
    {
      "cell_type": "code",
      "execution_count": null,
      "metadata": {
        "colab": {
          "base_uri": "https://localhost:8080/"
        },
        "id": "494WkU06-V2F",
        "outputId": "82ebfde9-4053-44e4-9998-7e2b31c99272"
      },
      "outputs": [
        {
          "name": "stdout",
          "output_type": "stream",
          "text": [
            "Enter a sentence: asdfgh\n",
            "Vowels: 1 Digits: 0\n"
          ]
        }
      ],
      "source": [
        "s = input(\"Enter a sentence: \")\n",
        "vowels = sum(1 for c in s if c.lower() in \"aeiou\")\n",
        "digits = sum(1 for c in s if c.isdigit())\n",
        "print(\"Vowels:\", vowels, \"Digits:\", digits)\n"
      ]
    },
    {
      "cell_type": "code",
      "execution_count": null,
      "metadata": {
        "colab": {
          "base_uri": "https://localhost:8080/"
        },
        "id": "kDsgQAT2_b_r",
        "outputId": "62bb2a24-1b1c-47c1-ce54-e9825be79806"
      },
      "outputs": [
        {
          "name": "stdout",
          "output_type": "stream",
          "text": [
            "enter the number (n)>>3\n",
            "sum of natural number-> 6\n"
          ]
        }
      ],
      "source": [
        "num=int(input(\"enter the number (n)>>\"))\n",
        "print('sum of natural number->', sum(range(1,num+1)))"
      ]
    },
    {
      "cell_type": "code",
      "execution_count": null,
      "metadata": {
        "colab": {
          "base_uri": "https://localhost:8080/"
        },
        "id": "5Ofp12QUADOf",
        "outputId": "14d67e71-43b1-41e4-9928-efb99081c45f"
      },
      "outputs": [
        {
          "name": "stdout",
          "output_type": "stream",
          "text": [
            "['4', '5', '8']\n"
          ]
        }
      ],
      "source": [
        "\n",
        "def addTwoNumbers(l1:list, l2:list):\n",
        "    m = ''\n",
        "    n = ''\n",
        "\n",
        "    l1.reverse()\n",
        "    for digit in l1:\n",
        "        digit = str(digit)\n",
        "        m += digit\n",
        "    l2.reverse()\n",
        "    for digit in l2:\n",
        "        digit = str(digit)\n",
        "        n += digit\n",
        "\n",
        "    a = int(m)\n",
        "    b = int(n)\n",
        "    l3=[]\n",
        "    c = a+b\n",
        "    c = str(c)\n",
        "    for digits in c:\n",
        "        digit = str(digits)\n",
        "        l3.append(digits)\n",
        "    l3.reverse()\n",
        "\n",
        "    return l3\n",
        "\n",
        "print(addTwoNumbers([1,0,2],[3,5,6]))"
      ]
    },
    {
      "cell_type": "code",
      "execution_count": null,
      "metadata": {
        "colab": {
          "base_uri": "https://localhost:8080/"
        },
        "id": "jOj8UOmCAnwy",
        "outputId": "c51b76f6-499c-4ce1-af73-eee9731efdda"
      },
      "outputs": [
        {
          "name": "stdout",
          "output_type": "stream",
          "text": [
            "[2, 4, 6]\n"
          ]
        }
      ],
      "source": [
        "list1=[1,2,3]\n",
        "list2=[1,2,3]\n",
        "result =[0]*len(list1)\n",
        "for i in range(len(list1)):\n",
        "  result[i]=list1[i]+list2[i]\n",
        "print(result)"
      ]
    },
    {
      "cell_type": "code",
      "execution_count": null,
      "metadata": {
        "colab": {
          "base_uri": "https://localhost:8080/"
        },
        "id": "Z8S5djREB8l8",
        "outputId": "04c3307a-aed3-4d90-d9a6-ee016772bbfd"
      },
      "outputs": [
        {
          "name": "stdout",
          "output_type": "stream",
          "text": [
            "enter number seprated by comma:1,2,3\n",
            "enter number seprated by comma:1,2,3\n",
            "['11', ',,', '22', ',,', '33']\n"
          ]
        }
      ],
      "source": [
        "list1=list(input(\"enter number seprated by comma:\"))\n",
        "list2=list(input(\"enter number seprated by comma:\"))\n",
        "\n",
        "result=[0]*len(list1)\n",
        "for i in range(len(list1)):\n",
        "  result[i]=list1[i]+list2[i]\n",
        "print(result)"
      ]
    },
    {
      "cell_type": "code",
      "execution_count": null,
      "metadata": {
        "colab": {
          "base_uri": "https://localhost:8080/"
        },
        "id": "1Fc0baTyDa36",
        "outputId": "8d882d84-4ea6-47de-ac7b-ed013a6337ae"
      },
      "outputs": [
        {
          "name": "stdout",
          "output_type": "stream",
          "text": [
            "[1, 3]\n"
          ]
        }
      ],
      "source": [
        "def twoSum(nums, target: int):\n",
        "        for i in range(len(nums)):\n",
        "            for j in range(i + 1, len(nums)):\n",
        "                if nums[j] == target - nums[i]:\n",
        "                    return [i,j]\n",
        "        return []\n",
        "\n",
        "\n",
        "print(twoSum([1,3,5,4,2], 7))\n"
      ]
    },
    {
      "cell_type": "code",
      "execution_count": null,
      "metadata": {
        "colab": {
          "background_save": true,
          "base_uri": "https://localhost:8080/"
        },
        "id": "lCf_ZzZIEOln",
        "outputId": "49d440a9-10d6-4e89-af92-afbb915243d2"
      },
      "outputs": [
        {
          "name": "stdout",
          "output_type": "stream",
          "text": [
            "Hospital Record System\n",
            "1. Add Patient\n",
            "2. View All Patients\n",
            "3. Search Patient\n",
            "4. Exit\n",
            "Invalid choice! Please try again.\n",
            "\n",
            "Hospital Record System\n",
            "1. Add Patient\n",
            "2. View All Patients\n",
            "3. Search Patient\n",
            "4. Exit\n",
            "\n",
            "--- Add New Patient ---\n",
            "Patient record added successfully!\n",
            "\n",
            "Hospital Record System\n",
            "1. Add Patient\n",
            "2. View All Patients\n",
            "3. Search Patient\n",
            "4. Exit\n",
            "\n",
            "--- Search Patient ---\n",
            "Patient not found.\n",
            "\n",
            "Hospital Record System\n",
            "1. Add Patient\n",
            "2. View All Patients\n",
            "3. Search Patient\n",
            "4. Exit\n",
            "\n",
            "--- Search Patient ---\n",
            "Found - Name: bili, Age: 2, Disease: diabetes\n",
            "Hospital Record System\n",
            "1. Add Patient\n",
            "2. View All Patients\n",
            "3. Search Patient\n",
            "4. Exit\n",
            "Exiting the system. Goodbye!\n"
          ]
        }
      ],
      "source": [
        "# Hospital Data Record System (Simple Project)\n",
        "\n",
        "# Define structure to store patient records\n",
        "MAX_PATIENTS = 100\n",
        "names = [\"\"] * MAX_PATIENTS\n",
        "ages = [0] * MAX_PATIENTS\n",
        "diseases = [\"\"] * MAX_PATIENTS\n",
        "patient_count = 0\n",
        "\n",
        "def add_patient():\n",
        "    global patient_count\n",
        "    if patient_count >= MAX_PATIENTS:\n",
        "        print(\"Hospital record is full!\")\n",
        "        return\n",
        "    print(\"\\n--- Add New Patient ---\")\n",
        "    names[patient_count] = input(\"Enter patient name: \")\n",
        "    ages[patient_count] = int(input(\"Enter age: \"))\n",
        "    diseases[patient_count] = input(\"Enter disease/issue: \")\n",
        "    patient_count += 1\n",
        "    print(\"Patient record added successfully!\\n\")\n",
        "\n",
        "def view_patients():\n",
        "    if patient_count == 0:\n",
        "        print(\"\\nNo patient records available.\\n\")\n",
        "        return\n",
        "    print(\"\\n--- Patient Records ---\")\n",
        "    i = 0\n",
        "    while i < patient_count:\n",
        "        print(f\"{i+1}. Name: {names[i]}, Age: {ages[i]}, Disease: {diseases[i]}\")\n",
        "        i += 1\n",
        "    print()\n",
        "\n",
        "def search_patient():\n",
        "    print(\"\\n--- Search Patient ---\")\n",
        "    search_name = input(\"Enter name to search: \")\n",
        "    found = False\n",
        "    i = 0\n",
        "    while i < patient_count:\n",
        "        if names[i].lower() == search_name.lower():\n",
        "            print(f\"Found - Name: {names[i]}, Age: {ages[i]}, Disease: {diseases[i]}\")\n",
        "            found = True\n",
        "            break\n",
        "        i += 1\n",
        "    if not found:\n",
        "        print(\"Patient not found.\\n\")\n",
        "\n",
        "def main_menu():\n",
        "    while True:\n",
        "        print(\"Hospital Record System\")\n",
        "        print(\"1. Add Patient\")\n",
        "        print(\"2. View All Patients\")\n",
        "        print(\"3. Search Patient\")\n",
        "        print(\"4. Exit\")\n",
        "        choice = input(\"Enter your choice: \")\n",
        "\n",
        "        if choice == '1':\n",
        "            add_patient()\n",
        "        elif choice == '2':\n",
        "            view_patients()\n",
        "        elif choice == '3':\n",
        "            search_patient()\n",
        "        elif choice == '4':\n",
        "            print(\"Exiting the system. Goodbye!\")\n",
        "            break\n",
        "        else:\n",
        "            print(\"Invalid choice! Please try again.\\n\")\n",
        "\n",
        "# Run the project\n",
        "main_menu()\n"
      ]
    },
    {
      "cell_type": "code",
      "execution_count": 31,
      "metadata": {
        "id": "vMxnOSi8IXzt",
        "colab": {
          "base_uri": "https://localhost:8080/"
        },
        "outputId": "5ffeedb0-ef3d-4222-e232-6c626a3ce799"
      },
      "outputs": [
        {
          "output_type": "stream",
          "name": "stdout",
          "text": [
            "\n",
            "Hospital Record System\n",
            "1. Add Patient\n",
            "2. View All Patients\n",
            "3. Search Patient\n",
            "4. View Summary\n",
            "5. Exit\n",
            "Enter your choice: 1\n",
            "\n",
            "--- Add New Patient ---\n",
            "Enter patient name: rohan\n",
            "Enter age: 17\n",
            "Enter disease/issue: no issue\n",
            "Enter status (admitted/discharged/deceased): discharged\n",
            "Patient record added successfully!\n",
            "\n",
            "\n",
            "Hospital Record System\n",
            "1. Add Patient\n",
            "2. View All Patients\n",
            "3. Search Patient\n",
            "4. View Summary\n",
            "5. Exit\n",
            "Enter your choice: 5\n",
            "Exiting the system. Goodbye!\n"
          ]
        }
      ],
      "source": [
        "names = [\"\"] * MAX_PATIENTS\n",
        "ages = [0] * MAX_PATIENTS\n",
        "diseases = [\"\"] * MAX_PATIENTS\n",
        "statuses = [\"\"] * MAX_PATIENTS  # 'admitted', 'discharged', 'deceased'\n",
        "patient_count = 0\n",
        "\n",
        "def add_patient():\n",
        "    global patient_count\n",
        "    if patient_count >= MAX_PATIENTS:\n",
        "        print(\"Hospital record is full!\")\n",
        "        return\n",
        "    print(\"\\n--- Add New Patient ---\")\n",
        "    names[patient_count] = input(\"Enter patient name: \")\n",
        "    ages[patient_count] = int(input(\"Enter age: \"))\n",
        "    diseases[patient_count] = input(\"Enter disease/issue: \")\n",
        "    statuses[patient_count] = input(\"Enter status (admitted/discharged/deceased): \").lower()\n",
        "    patient_count += 1\n",
        "    print(\"Patient record added successfully!\\n\")\n",
        "\n",
        "def view_patients():\n",
        "    if patient_count == 0:\n",
        "        print(\"\\nNo patient records available.\\n\")\n",
        "        return\n",
        "    print(\"\\n--- Patient Records ---\")\n",
        "    i = 0\n",
        "    while i < patient_count:\n",
        "        print(f\"{i+1}. Name: {names[i]}, Age: {ages[i]}, Disease: {diseases[i]}, Status: {statuses[i]}\")\n",
        "        i += 1\n",
        "    print()\n",
        "\n",
        "def search_patient():\n",
        "    print(\"\\n--- Search Patient ---\")\n",
        "    search_name = input(\"Enter name to search: \")\n",
        "    found = False\n",
        "    i = 0\n",
        "    while i < patient_count:\n",
        "        if names[i].lower() == search_name.lower():\n",
        "            print(f\"Found - Name: {names[i]}, Age: {ages[i]}, Disease: {diseases[i]}, Status: {statuses[i]}\")\n",
        "            found = True\n",
        "            break\n",
        "        i += 1\n",
        "    if not found:\n",
        "        print(\"Patient not found.\\n\")\n",
        "\n",
        "def summary():\n",
        "    admitted = 0\n",
        "    discharged = 0\n",
        "    deceased = 0\n",
        "    i = 0\n",
        "    while i < patient_count:\n",
        "        if statuses[i] == 'admitted':\n",
        "            admitted += 1\n",
        "        elif statuses[i] == 'discharged':\n",
        "            discharged += 1\n",
        "        elif statuses[i] == 'deceased':\n",
        "            deceased += 1\n",
        "        i += 1\n",
        "    print(\"\\n--- Hospital Summary ---\")\n",
        "    print(f\"Total Patients: {patient_count}\")\n",
        "    print(f\"Currently Admitted: {admitted}\")\n",
        "    print(f\"Discharged: {discharged}\")\n",
        "    print(f\"Deaths: {deceased}\\n\")\n",
        "\n",
        "def main_menu():\n",
        "    while True:\n",
        "        print(\"\\nHospital Record System\")\n",
        "        print(\"1. Add Patient\")\n",
        "        print(\"2. View All Patients\")\n",
        "        print(\"3. Search Patient\")\n",
        "        print(\"4. View Summary\")\n",
        "        print(\"5. Exit\")\n",
        "        choice = input(\"Enter your choice: \")\n",
        "\n",
        "        if choice == '1':\n",
        "            add_patient()\n",
        "        elif choice == '2':\n",
        "            view_patients()\n",
        "        elif choice == '3':\n",
        "            search_patient()\n",
        "        elif choice == '4':\n",
        "            summary()\n",
        "        elif choice == '5':\n",
        "            print(\"Exiting the system. Goodbye!\")\n",
        "            break\n",
        "        else:\n",
        "            print(\"Invalid choice! Please try again.\\n\")\n",
        "\n",
        "# Run the project\n",
        "main_menu()\n"
      ]
    },
    {
      "cell_type": "code",
      "execution_count": null,
      "metadata": {
        "id": "JHeSu9LFJANX"
      },
      "outputs": [],
      "source": []
    }
  ],
  "metadata": {
    "colab": {
      "provenance": [],
      "authorship_tag": "ABX9TyMFNXCT7Qsv4bEEZ40gT7yi",
      "include_colab_link": true
    },
    "kernelspec": {
      "display_name": "Python 3",
      "name": "python3"
    },
    "language_info": {
      "name": "python"
    }
  },
  "nbformat": 4,
  "nbformat_minor": 0
}