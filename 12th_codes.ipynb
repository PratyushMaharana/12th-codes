{
  "nbformat": 4,
  "nbformat_minor": 0,
  "metadata": {
    "colab": {
      "provenance": [],
      "authorship_tag": "ABX9TyOYq0uQRJEm4Lss29+7rfrI",
      "include_colab_link": true
    },
    "kernelspec": {
      "name": "python3",
      "display_name": "Python 3"
    },
    "language_info": {
      "name": "python"
    }
  },
  "cells": [
    {
      "cell_type": "markdown",
      "metadata": {
        "id": "view-in-github",
        "colab_type": "text"
      },
      "source": [
        "<a href=\"https://colab.research.google.com/github/PratyushMaharana/12th-codes/blob/main/12th_codes.ipynb\" target=\"_parent\"><img src=\"https://colab.research.google.com/assets/colab-badge.svg\" alt=\"Open In Colab\"/></a>"
      ]
    },
    {
      "cell_type": "code",
      "execution_count": null,
      "metadata": {
        "colab": {
          "base_uri": "https://localhost:8080/"
        },
        "id": "vNvLTLcdmuH0",
        "outputId": "39b17d5e-188a-4a6a-d068-8f2bff721ff4"
      },
      "outputs": [
        {
          "output_type": "stream",
          "name": "stdout",
          "text": [
            "sample.txt not found.\n"
          ]
        }
      ],
      "source": [
        "def count_vowels(filename):\n",
        "    vowels = 'aeiouAEIOU'\n",
        "    with open(filename) as f:\n",
        "        return sum(1 for char in f.read() if char in vowels)\n",
        "\n",
        "try:\n",
        "    print(\"Vowel count:\", count_vowels('sample.txt'))\n",
        "except FileNotFoundError:\n",
        "    print(\"sample.txt not found.\")\n"
      ]
    },
    {
      "cell_type": "markdown",
      "source": [
        "# **filter line conatining 'p'**"
      ],
      "metadata": {
        "id": "cN1IUlEG53mv"
      }
    },
    {
      "cell_type": "code",
      "source": [
        "with open('input.txt', 'w') as f:\n",
        "    f.write(\"This is a text with some p's.\\n\")\n",
        "    f.write(\"Python is powerful.\\n\")\n",
        "    f.write(\"This line does not contain the letter p.\\n\")\n",
        "    f.write(\"Pineapple is a fruit.\\n\")\n",
        "\n",
        "with open('input.txt', 'r') as infile, open('output.txt', 'w') as outfile:\n",
        "    for line in infile:\n",
        "        if 'p' in line.lower():\n",
        "            outfile.write(line)\n",
        "\n",
        "print(\"Lines with 'p' copied to output.txt\")"
      ],
      "metadata": {
        "colab": {
          "base_uri": "https://localhost:8080/"
        },
        "id": "BNrX2LJWo2Fx",
        "outputId": "af49f5de-d66f-419d-cea2-eaa01b432d54"
      },
      "execution_count": null,
      "outputs": [
        {
          "output_type": "stream",
          "name": "stdout",
          "text": [
            "Lines with 'p' copied to output.txt\n"
          ]
        }
      ]
    },
    {
      "cell_type": "markdown",
      "source": [
        "# **Write a program to append one more record in the existing text file name as student.txt**"
      ],
      "metadata": {
        "id": "pj531LQb6UHc"
      }
    },
    {
      "cell_type": "code",
      "source": [
        "import os\n",
        "\n",
        "filename = \"student.txt\"\n",
        "\n",
        "if not os.path.exists(filename) or os.path.getsize(filename) == 0:\n",
        "    with open(filename, \"w\") as file:\n",
        "        file.write(\"Ravi Kumar, 101, 85\\n\")\n",
        "        file.write(\"Sneha Das, 102, 90\\n\")\n",
        "        print(\"Initialized file with default student records.\")\n",
        "\n",
        "while True:\n",
        "    with open(filename, \"a\") as file:\n",
        "        print(\"\\nEnter details to append to the file:\")\n",
        "        name = input(\"Enter student name: \").strip()\n",
        "        roll = input(\"Enter roll number: \").strip()\n",
        "        marks = input(\"Enter marks: \").strip()\n",
        "        file.write(f\"{name}, {roll}, {marks}\\n\")\n",
        "        print(\"Record added successfully.\")\n",
        "\n",
        "    more = input(\"Do you want to add another record? (yes/no): \").strip().lower()\n",
        "    if more != \"yes\":\n",
        "        break\n",
        "\n",
        "view = input(\"\\nDo you want to see the contents of student.txt? (yes/no): \").strip().lower()\n",
        "if view == \"yes\":\n",
        "    print(\"\\nContents of student.txt:\")\n",
        "    with open(filename, \"r\") as file:\n",
        "        print(file.read())\n"
      ],
      "metadata": {
        "colab": {
          "base_uri": "https://localhost:8080/"
        },
        "id": "3hdNQ_Z9ySVW",
        "outputId": "c0146327-a7e4-4b1f-ef0b-479673cdb97e"
      },
      "execution_count": null,
      "outputs": [
        {
          "output_type": "stream",
          "name": "stdout",
          "text": [
            "\n",
            "Enter details to append to the file:\n",
            "Enter student name: rohan\n",
            "Enter roll number: 24\n",
            "Enter marks: 43\n",
            "Record added successfully.\n",
            "Do you want to add another record? (yes/no): no\n",
            "\n",
            "Do you want to see the contents of student.txt? (yes/no): yes\n",
            "\n",
            "Contents of student.txt:\n",
            "2, 1, 1\n",
            "pratyush, 27, 99\n",
            "pratyush , 27, 99\n",
            "pratyush, 27, 99\n",
            "pratyush, 43, 3\n",
            "pratyush, 27, 99\n",
            "rohan, 7, 89\n",
            "pratyush, 6, 99\n",
            "lol, 2, 3\n",
            "rohan, 24, 43\n",
            "\n"
          ]
        }
      ]
    },
    {
      "cell_type": "code",
      "source": [
        "import os\n",
        "\n",
        "filename = \"student.txt\"\n",
        "\n",
        "if not os.path.exists(filename) or os.path.getsize(filename) == 0:\n",
        "    with open(filename, \"w\") as file:\n",
        "\n",
        "        file.write(\"Ravi Kumar, 101, 85\\n\")\n",
        "        file.write(\"Sneha Das, 102, 90\\n\")\n",
        "        print(\"Initialized file with default student records.\")\n",
        "\n",
        "while True:\n",
        "    with open(filename, \"a\") as file:\n",
        "        print(\"\\nEnter details to append to the file:\")\n",
        "        name = input(\"Enter student name: \").strip()\n",
        "        roll = input(\"Enter roll number: \").strip()\n",
        "        marks = input(\"Enter marks: \").strip()\n",
        "        file.write(f\"{name}, {roll}, {marks}\\n\")\n",
        "        print(\"Record added successfully.\")\n",
        "\n",
        "    more = input(\"Do you want to add another record? (yes/no): \").strip().lower()\n",
        "    if more != \"yes\":\n",
        "        break\n",
        "\n",
        "view = input(\"\\nDo you want to see the contents of student.txt? (yes/no): \").strip().lower()\n",
        "if view == \"yes\":\n",
        "    print(\"\\nContents of student.txt:\")\n",
        "    with open(filename, \"r\") as file:\n",
        "        print(file.read())\n"
      ],
      "metadata": {
        "colab": {
          "base_uri": "https://localhost:8080/"
        },
        "id": "phOMX7alzZPg",
        "outputId": "f320b4c3-501f-46fa-cfd3-3399aeecd887"
      },
      "execution_count": null,
      "outputs": [
        {
          "output_type": "stream",
          "name": "stdout",
          "text": [
            "\n",
            "Enter details to append to the file:\n",
            "Enter student name: ll\n",
            "Enter roll number: 2\n",
            "Enter marks: 1\n",
            "Record added successfully.\n",
            "Do you want to add another record? (yes/no): no \n",
            "\n",
            "Do you want to see the contents of student.txt? (yes/no): yes\n",
            "\n",
            "Contents of student.txt:\n",
            "2, 1, 1\n",
            "pratyush, 27, 99\n",
            "pratyush , 27, 99\n",
            "pratyush, 27, 99\n",
            "pratyush, 43, 3\n",
            "pratyush, 27, 99\n",
            "rohan, 7, 89\n",
            "pratyush, 6, 99\n",
            "lol, 2, 3\n",
            "rohan, 24, 43\n",
            "lol, 2, 1\n",
            "ll, 2, 1\n",
            "\n"
          ]
        }
      ]
    },
    {
      "cell_type": "code",
      "source": [
        "\n",
        "\n",
        "filename = \"student.txt\"\n",
        "\n",
        "if not os.path.exists(filename) or os.path.getsize(filename) == 0:\n",
        "    with open(filename, \"w\") as file:\n",
        "        file.write(\"Ravi Kumar, 101, 85\\n\")\n",
        "        file.write(\"Sneha Das, 102, 90\\n\")\n",
        "        print(\"Initialized file with default student records.\")\n",
        "\n",
        "while True:\n",
        "    with open(filename, \"a\") as file:\n",
        "        print(\"\\nEnter details to append to the file:\")\n",
        "        name = input(\"Enter student name: \").strip()\n",
        "        roll = input(\"Enter roll number: \").strip()\n",
        "        marks = input(\"Enter marks: \").strip()\n",
        "        file.write(f\"{name}, {roll}, {marks}\\n\")\n",
        "        print(\"Record added successfully.\")\n",
        "\n",
        "    more = input(\"Do you want to add another record? (yes/no): \").strip().lower()\n",
        "    if more != \"yes\":\n",
        "        break\n",
        "\n",
        "view = input(\"\\nDo you want to see the contents of student.txt? (yes/no): \").strip().lower()\n",
        "if view == \"yes\":\n",
        "    print(\"\\nContents of student.txt:\")\n",
        "    with open(filename, \"r\") as file:\n",
        "        print(file.read())\n"
      ],
      "metadata": {
        "id": "qgpFqBo8zxuv",
        "colab": {
          "base_uri": "https://localhost:8080/"
        },
        "outputId": "d16a7df6-d923-4594-9c34-02a6cafb0477"
      },
      "execution_count": null,
      "outputs": [
        {
          "output_type": "stream",
          "name": "stdout",
          "text": [
            "\n",
            "Enter details to append to the file:\n",
            "Enter student name: hello\n",
            "Enter roll number: 2\n",
            "Enter marks: 2\n",
            "Record added successfully.\n",
            "Do you want to add another record? (yes/no): no\n",
            "\n",
            "Do you want to see the contents of student.txt? (yes/no): yes\n",
            "\n",
            "Contents of student.txt:\n",
            "2, 1, 1\n",
            "pratyush, 27, 99\n",
            "pratyush , 27, 99\n",
            "pratyush, 27, 99\n",
            "pratyush, 43, 3\n",
            "pratyush, 27, 99\n",
            "rohan, 7, 89\n",
            "pratyush, 6, 99\n",
            "lol, 2, 3\n",
            "rohan, 24, 43\n",
            "lol, 2, 1\n",
            "ll, 2, 1\n",
            "hello, 2, 3\n",
            "rohan, 25, 99\n",
            "hello, 2, 2\n",
            "\n"
          ]
        }
      ]
    },
    {
      "cell_type": "code",
      "source": [
        "def append_student_record():\n",
        "    filename = \"student.txt\"\n",
        "    print(\"Enter student details to append:\")\n",
        "    name = input(\"Name: \")\n",
        "    roll_no = input(\"Roll Number: \")\n",
        "    grade = input(\"Grade: \")\n",
        "\n",
        "    with open(filename, 'a') as file:\n",
        "        file.write(f\"{name}, {roll_no}, {grade}\\n\")  # Writes in one line\n",
        "    print(\"Record appended successfully!\")\n",
        "\n",
        "append_student_record()"
      ],
      "metadata": {
        "colab": {
          "base_uri": "https://localhost:8080/"
        },
        "id": "e4uZKIsZ0Psk",
        "outputId": "3465c5af-344a-435b-b54c-d83c5019f05a"
      },
      "execution_count": null,
      "outputs": [
        {
          "output_type": "stream",
          "name": "stdout",
          "text": [
            "Enter student details to append:\n",
            "Name: pratyush\n",
            "Roll Number: 27\n",
            "Grade: A+\n",
            "Record appended successfully!\n"
          ]
        }
      ]
    },
    {
      "cell_type": "code",
      "source": [
        "import pickle\n",
        "\n",
        "def write_student_data():\n",
        "    \"\"\"Write student records to a binary file\"\"\"\n",
        "    filename = \"students.dat\"\n",
        "    students = []\n",
        "\n",
        "    print(\"Enter student details (press Enter to stop):\")\n",
        "    while True:\n",
        "        print(\"\\nNew Student Record\")\n",
        "        roll_no = input(\"Roll Number: \")\n",
        "        if not roll_no:\n",
        "            break\n",
        "        name = input(\"Name: \")\n",
        "        grade = input(\"Grade: \")\n",
        "        remarks = input(\"Remarks: \")\n",
        "\n",
        "        students.append({\n",
        "            'roll_no': roll_no,\n",
        "            'name': name,\n",
        "            'grade': grade,\n",
        "            'remarks': remarks\n",
        "        })\n",
        "\n",
        "    try:\n",
        "        with open(filename, 'wb') as file:\n",
        "            pickle.dump(students, file)\n",
        "        print(f\"\\nSuccessfully saved {len(students)} records to {filename}\")\n",
        "    except IOError as e:\n",
        "        print(f\"\\nError saving file: {e}\")\n",
        "\n",
        "def read_student_data():\n",
        "    \"\"\"Read and display student records from binary file\"\"\"\n",
        "    filename = \"students.dat\"\n",
        "    try:\n",
        "        with open(filename, 'rb') as file:\n",
        "            students = pickle.load(file)\n",
        "            print(\"\\nStudent Records:\")\n",
        "            print(\"-\" * 50)\n",
        "            for student in students:\n",
        "                print(f\"Roll No: {student['roll_no']}\")\n",
        "                print(f\"Name: {student['name']}\")\n",
        "                print(f\"Grade: {student['grade']}\")\n",
        "                print(f\"Remarks: {student['remarks']}\")\n",
        "                print(\"-\" * 50)\n",
        "    except FileNotFoundError:\n",
        "        print(\"\\nNo student data found - please create records first\")\n",
        "    except Exception as e:\n",
        "        print(f\"\\nError reading file: {e}\")\n",
        "\n",
        "# Main program\n",
        "if __name__ == \"__main__\":\n",
        "    while True:\n",
        "        print(\"\\nStudent Record System\")\n",
        "        print(\"1. Add New Records\")\n",
        "        print(\"2. View All Records\")\n",
        "        print(\"3. Exit\")\n",
        "\n",
        "        choice = input(\"Enter your choice (1-3): \")\n",
        "\n",
        "        if choice == '1':\n",
        "            write_student_data()\n",
        "        elif choice == '2':\n",
        "            read_student_data()\n",
        "        elif choice == '3':\n",
        "            print(\"Exiting program...\")\n",
        "            break\n",
        "        else:\n",
        "            print(\"Invalid choice - please enter 1, 2 or 3\")"
      ],
      "metadata": {
        "colab": {
          "base_uri": "https://localhost:8080/"
        },
        "id": "q3OLiIy207dv",
        "outputId": "c5d6e764-cd25-40e3-97f5-e3c623245245"
      },
      "execution_count": null,
      "outputs": [
        {
          "output_type": "stream",
          "name": "stdout",
          "text": [
            "\n",
            "Student Record System\n",
            "1. Add New Records\n",
            "2. View All Records\n",
            "3. Exit\n",
            "Enter your choice (1-3): 1\n",
            "Enter student details (press Enter to stop):\n",
            "\n",
            "New Student Record\n",
            "Roll Number: 2\n",
            "Name: monu\n",
            "Grade: b\n",
            "Remarks: bekar\n",
            "\n",
            "New Student Record\n",
            "Roll Number: 23\n",
            "Name: badmash\n",
            "Grade: c\n",
            "Remarks: pagal hia kya\n",
            "\n",
            "New Student Record\n",
            "Roll Number: \n",
            "\n",
            "Successfully saved 2 records to students.dat\n",
            "\n",
            "Student Record System\n",
            "1. Add New Records\n",
            "2. View All Records\n",
            "3. Exit\n",
            "Enter your choice (1-3): 3\n",
            "Exiting program...\n"
          ]
        }
      ]
    },
    {
      "cell_type": "code",
      "source": [],
      "metadata": {
        "id": "GLfQ48lB4GF8"
      },
      "execution_count": null,
      "outputs": []
    }
  ]
}